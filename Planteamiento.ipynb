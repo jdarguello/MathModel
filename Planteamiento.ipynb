{
 "cells": [
  {
   "cell_type": "markdown",
   "metadata": {
    "slideshow": {
     "slide_type": "slide"
    }
   },
   "source": [
    "# Planteamiento del modelo\n",
    "\n",
    "<br>\n",
    "\n",
    "<div align=\"justify\">\n",
    "    El planteamiento del modelo matemático requiere de un proceso de análisis de las variables de estudio (¿qué variables presentan una mayor influencia?). Para ello, empezamos por importar los datos del problema experimental, luego realizamos un estudio estadístico mediante una gráfica de distribución normal y diagrama de pareto; y, finalmente, planteamos <i>TODOS</i> los posibles modelos y escogemos el que mejor se adapta al fenómeno de estudio.\n",
    "</div>"
   ]
  },
  {
   "cell_type": "code",
   "execution_count": null,
   "metadata": {},
   "outputs": [],
   "source": [
    "%store -r Datos"
   ]
  },
  {
   "cell_type": "markdown",
   "metadata": {
    "slideshow": {
     "slide_type": "slide"
    }
   },
   "source": [
    "## Estabilidad\n",
    "\n",
    "<br>\n",
    "\n",
    "<div align=\"justify\">\n",
    "    En primer lugar, es importante determinar la estabilidad del experimento. \n",
    "</div>"
   ]
  },
  {
   "cell_type": "code",
   "execution_count": null,
   "metadata": {},
   "outputs": [],
   "source": [
    "from App.Pretratamiento.Estabilidad import Est\n",
    "Estabilidad = Est(Datos)\n",
    "\n",
    "Estab = Estabilidad()\n",
    "%store Estab\n",
    "Estab"
   ]
  },
  {
   "cell_type": "markdown",
   "metadata": {
    "slideshow": {
     "slide_type": "subslide"
    }
   },
   "source": [
    "<div align = \"justify\">\n",
    "En caso de que existan datos por fuera, o por dentro, de la superficie del cubo experimental, se realiza la partición de datos para \"Planteamiento\" y \"Validación\".\n",
    "</div>\n",
    "\n",
    "<br>\n",
    "\n",
    "<div align = \"justify\">\n",
    "    Los datos para el <strong>plantemiento</strong> de los modelos matemáticos corresponden a los que se encuentran en la superficie del cubo (filas compuestas <i>únicamente</i> por: -1, 0 o 1); mientras que los datos de <strong>validación</strong> corresponden a los demás.\n",
    "</div>\n",
    "\n",
    "<br>\n",
    "\n",
    "De maner resumida:\n",
    "\n",
    "$$\n",
    "\\begin{equation}\n",
    "  Plant=\\left\\{\n",
    "    \\begin{array}{@{} l c @{}}\n",
    "      1 & \\text{Nivel superior} \\\\\n",
    "      0 & \\text{Centro del cubo}\\\\\n",
    "      -1 & \\text{Nivel inferior}\n",
    "    \\end{array}\\right.\n",
    "\\end{equation}\n",
    "$$\n",
    "\n",
    "$$\n",
    "\\begin{equation}\n",
    "    Val = \\forall x \\left( x \\in \\mathbb{R} \\, \\Lambda \\, x \\neq  -1 , x \\neq 0 , x \\neq 1 \\right) \\, x \\in fila_{datos}\n",
    "\\end{equation}\n",
    "$$\n",
    "\n",
    "Para este caso particular..."
   ]
  },
  {
   "cell_type": "code",
   "execution_count": null,
   "metadata": {
    "slideshow": {
     "slide_type": "subslide"
    }
   },
   "outputs": [],
   "source": [
    "Data_Plant = Estabilidad.Plant\n",
    "Data_Val = Estabilidad.Val\n",
    "\n",
    "%store Data_Plant\n",
    "%store Data_Val\n",
    "\n",
    "Data_Plant = Datos"
   ]
  },
  {
   "cell_type": "markdown",
   "metadata": {
    "slideshow": {
     "slide_type": "slide"
    }
   },
   "source": [
    "## Análisis de la varianza\n",
    "\n",
    "<br>\n",
    "\n",
    "<div align=\"justify\">\n",
    "    A continuación, se puede apreciar la variación entre los datos experimentales a partir de una gráfica de distribución normal y un diagrama de pareto.\n",
    "</div>"
   ]
  },
  {
   "cell_type": "code",
   "execution_count": null,
   "metadata": {},
   "outputs": [],
   "source": [
    "%matplotlib notebook\n",
    "from App.Pretratamiento.ANOVA import NormalGraph, Pareto\n",
    "NormDist = NormalGraph(Data_Plant)()\n",
    "%store NormDist"
   ]
  },
  {
   "cell_type": "code",
   "execution_count": null,
   "metadata": {
    "slideshow": {
     "slide_type": "subslide"
    }
   },
   "outputs": [],
   "source": [
    "%matplotlib notebook\n",
    "#Verdadero = True    Falso = False\n",
    "P = Pareto(Data_Plant, porcentaje = 95, grid=True)\n",
    "Efecto = P.ef\n",
    "print('Variables de mayor efecto:', Efecto)"
   ]
  },
  {
   "cell_type": "markdown",
   "metadata": {
    "slideshow": {
     "slide_type": "slide"
    }
   },
   "source": [
    "## Modelos Matemáticos\n",
    "\n",
    "<br>\n",
    "\n",
    "<div align=\"justify\">\n",
    "    El análisis de la varianza nos ayuda a entender cuáles son las variables con mayor efecto dentro del fenómeno experimental estudiado. En pocas palabras, permite identificar un punto de partida para el inicio del proceso iterativo. Gracias a la tecnología, es posible evaluar cientos (y puede que miles) de modelos matemáticos en cuestión de segundos!\n",
    "</div>\n",
    "\n",
    "<br>\n",
    "\n",
    "<div align=\"justify\">\n",
    "    Pero antes de pensar en plantear múltiples modelos de manera simultánea, concentrémonos en plantear el primero. \n",
    "</div>"
   ]
  },
  {
   "cell_type": "markdown",
   "metadata": {
    "slideshow": {
     "slide_type": "slide"
    }
   },
   "source": [
    "### Planteamiento\n",
    "\n",
    "<br> \n",
    "\n",
    "<div align=\"justify\">\n",
    "    El modelo matemático general planteado es del orden:\n",
    "</div>\n",
    "\n",
    "$$\n",
    "\\begin{equation}\n",
    "    Y = b X\n",
    "    \\label{General}\n",
    "    \\tag{1}\n",
    "\\end{equation}\n",
    "$$\n",
    "\n",
    "Donde $Y$ corresponde a la respuesta, $b$ a las constantes y $X$ a las variables.\n",
    "\n",
    "Durante la práctica experimental, obtuvimos diversas variables de respuesta $\\left( Y_{exp} \\right)$, conocemos cuáles son las variables $X$, pero desconocemos el valor de las constantes, además del comportamiento propio del modelo que permite apreciar la solución \"exacta\" (experimental). Para calcular este valor, se desarrolla un modelo matemático que puede ser del tipo mostrado en la Ecuación \\ref{Desglosada}."
   ]
  },
  {
   "cell_type": "markdown",
   "metadata": {
    "slideshow": {
     "slide_type": "subslide"
    }
   },
   "source": [
    "$$\n",
    "\\begin{equation}\n",
    "    Y_{cal} = B_0 + B_1 X_1 + B_2 X_1 X_2 + B_3 X_3 ^2 + \\dots\n",
    "    \\label{Desglosada}\n",
    "    \\tag{2}\n",
    "\\end{equation}\n",
    "$$\n",
    "\n",
    "\n",
    "En términos matriciales, la Ecuación \\ref{Desglosada} es:\n",
    "\n",
    "$$\n",
    "\\begin{equation}\n",
    "    b = \\left( X^T X \\right) ^{-1} Y_{exp}\n",
    "    \\label{Const}\n",
    "    \\tag{3}\n",
    "\\end{equation}\n",
    "$$"
   ]
  },
  {
   "cell_type": "markdown",
   "metadata": {
    "slideshow": {
     "slide_type": "slide"
    }
   },
   "source": [
    "### Error inherente\n",
    "\n",
    "El modelo planteado acarrea un error inherente, el cual es estimado a partir del cálculo de los coeficientes de determinación $\\left( R^2 \\, y \\, R^2 _{ajus} \\right)$. Estos coeficientes se calculan a partir de las Ecuaciones \\ref{R2} y \\ref{R2aju}.\n",
    "\n",
    "$$\n",
    "\\begin{equation}\n",
    "    R^2 = \\frac{\\sum _{i=1} ^n \\left(Y_i - \\bar{Y}_{exp} \\right)^2 - \\sum _{i=1} ^n \\left(Y_i - Y_{cal _i} \\right)^2}{\\sum _{i=1} ^n \\left(Y_i - \\bar{Y}_{exp} \\right)^2 }\n",
    "    \\label{R2}\n",
    "    \\tag{4}\n",
    "\\end{equation}\n",
    "$$\n",
    "\n",
    "$$\n",
    "\\begin{equation}\n",
    "    R^2 _{ajus} = \\frac{\\sum _{i=1} ^n \\left(Y_i - \\bar{Y}_{exp} \\right)^2/GL_{exp} - \\sum _{i=1} ^n \\left(Y_i - Y_{cal _i} \\right)^2 /GL_{cal}}{\\sum _{i=1} ^n \\left(Y_i - \\bar{Y}_{exp} \\right)^2 /GL_{exp}}\n",
    "    \\label{R2aju}\n",
    "    \\tag{5}\n",
    "\\end{equation}\n",
    "$$"
   ]
  },
  {
   "cell_type": "markdown",
   "metadata": {
    "slideshow": {
     "slide_type": "subslide"
    }
   },
   "source": [
    "Dónde: $Y_i$ corresponde a la respuesta experimental de la línea $i$ del total del número de experimentos $n$, $\\bar{Y}_{exp}$ corresponde a la media de las respuestas experimentales, $Y_{cal_i}$ es la respuesta calculada por el modelo propuesto para la línea $i$, $GL_{exp}$ corresponde a los grados de libertad experimentales y $GL_{cal}$ a los grados de libertad del modelo.\n",
    "\n",
    "Los grados de libertad se calculan a partir del número de datos $n$ junto con el número de variables $m$, como se muestra a continuación:\n",
    "\n",
    "$$\n",
    "\\begin{equation}\n",
    "    GL_{exp} = n-1\n",
    "    \\label{GLexp}\n",
    "    \\tag{6}\n",
    "\\end{equation}\n",
    "$$\n",
    "\n",
    "$$\n",
    "\\begin{equation}\n",
    "    GL_{cal} = n-m-1\n",
    "    \\label{GLcal}\n",
    "    \\tag{7}\n",
    "\\end{equation}\n",
    "$$\n"
   ]
  },
  {
   "cell_type": "markdown",
   "metadata": {
    "slideshow": {
     "slide_type": "slide"
    }
   },
   "source": [
    "### Modelos Iniciales\n",
    "\n",
    "<br>\n",
    "\n",
    "<div align=\"justify\">\n",
    "    Los modelos iniciales evaluados corresponden a las combinaciones posibles de las variables seleccionadas en la sección <i>\"Análisis de la varianza\"</i>.\n",
    "</div>"
   ]
  },
  {
   "cell_type": "code",
   "execution_count": null,
   "metadata": {},
   "outputs": [],
   "source": [
    "from App.Modelos.Planteamiento import ModelosIniciales, ModeloFinal\n",
    "from App.Modelos.Respuesta import *\n",
    "nombre_bd = 'base'\n",
    "P = ModelosIniciales(Data_Plant, NormDist, Efecto, nombre_bd)\n",
    "Iniciales = P.Mejores\n",
    "Mejor = P.Mejor\n",
    "%store nombre_bd"
   ]
  },
  {
   "cell_type": "code",
   "execution_count": null,
   "metadata": {
    "slideshow": {
     "slide_type": "subslide"
    }
   },
   "outputs": [],
   "source": [
    "for key in Iniciales:\n",
    "    print('Modelo ' + str(key) + ':')\n",
    "    Models(Iniciales[key])"
   ]
  },
  {
   "cell_type": "markdown",
   "metadata": {
    "slideshow": {
     "slide_type": "slide"
    }
   },
   "source": [
    "#### Mejor modelo Inicial\n",
    "\n",
    "El modelo base seleccionado es:"
   ]
  },
  {
   "cell_type": "code",
   "execution_count": null,
   "metadata": {},
   "outputs": [],
   "source": [
    "Models(Mejor)"
   ]
  },
  {
   "cell_type": "markdown",
   "metadata": {
    "slideshow": {
     "slide_type": "slide"
    }
   },
   "source": [
    "## Modelo Final\n",
    "\n",
    "<br>\n",
    "\n",
    "\n",
    "El modelo base corresponde al mejor modelo seleccionado con exponente a la 1. Ahora, se evaluará la misma combinación con diferentes exponentes. El criterio de selección es el mayor $R ^2 _{ajus}$ posible. Se trata de un proceso iterativo en el que se evalúa la tendencia del criterio, para prever la mejor combinación de exponentes que permita seleccionar el modelo matemático final."
   ]
  },
  {
   "cell_type": "code",
   "execution_count": null,
   "metadata": {
    "slideshow": {
     "slide_type": "-"
    }
   },
   "outputs": [],
   "source": [
    "#Ecuación a evaluar\n",
    "Porcentaje = 1.1       #Recomendable: 0.85 - Visualizar < 1.0\n",
    "Eq = Mejor['Ecuación']\n",
    "Eq = ('C', 'A', 'AB', 'ABC')\n",
    "Final = ModeloFinal(Eq, NormDist, ref = 0.95, Y = Data_Plant['Y'],\\\n",
    "                    maximo=2, db='db', Porcentaje=Porcentaje)"
   ]
  },
  {
   "cell_type": "code",
   "execution_count": null,
   "metadata": {
    "slideshow": {
     "slide_type": "subslide"
    }
   },
   "outputs": [],
   "source": [
    "#¿Quieres seleccionar el mejor modelo inicial?\n",
    "Modelo = Mejor\n",
    "%store Modelo"
   ]
  },
  {
   "cell_type": "code",
   "execution_count": null,
   "metadata": {
    "scrolled": true,
    "slideshow": {
     "slide_type": "subslide"
    }
   },
   "outputs": [],
   "source": [
    "Modelo = Final.Ans\n",
    "Models(Modelo)\n",
    "%store Modelo"
   ]
  },
  {
   "cell_type": "markdown",
   "metadata": {
    "slideshow": {
     "slide_type": "slide"
    }
   },
   "source": [
    "### Resultados Gráficos\n",
    "\n",
    "<br>\n",
    "\n",
    "<div align = \"justify\">\n",
    "    Los resultados gráficos (Y vs Ycal y Residuo) se pueden apreciar a continuación.\n",
    "</div>"
   ]
  },
  {
   "cell_type": "code",
   "execution_count": null,
   "metadata": {},
   "outputs": [],
   "source": [
    "from App.Modelos.Resultados import *\n",
    "Ys(Modelo, Data_Plant['Y'])"
   ]
  },
  {
   "cell_type": "code",
   "execution_count": null,
   "metadata": {
    "slideshow": {
     "slide_type": "subslide"
    }
   },
   "outputs": [],
   "source": [
    "Residuo(Modelo, Data_Plant['Y'])"
   ]
  },
  {
   "cell_type": "code",
   "execution_count": null,
   "metadata": {
    "slideshow": {
     "slide_type": "subslide"
    }
   },
   "outputs": [],
   "source": [
    "#Para ejemplo 1\n",
    "limits = {\n",
    "    'A':{\n",
    "        '-1':3,\n",
    "        '1':8\n",
    "    },\n",
    "    'B':{\n",
    "        '-1':30,\n",
    "        '1':60\n",
    "    },\n",
    "    'C':{\n",
    "        '-1':8,\n",
    "        '1':20\n",
    "    }\n",
    "}\n",
    "\n",
    "SuperficieRespuesta(Modelo, limits)"
   ]
  }
 ],
 "metadata": {
  "kernelspec": {
   "display_name": "Python 3",
   "language": "python",
   "name": "python3"
  },
  "language_info": {
   "codemirror_mode": {
    "name": "ipython",
    "version": 3
   },
   "file_extension": ".py",
   "mimetype": "text/x-python",
   "name": "python",
   "nbconvert_exporter": "python",
   "pygments_lexer": "ipython3",
   "version": "3.7.4"
  }
 },
 "nbformat": 4,
 "nbformat_minor": 2
}
