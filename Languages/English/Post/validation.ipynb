{
 "cells": [
  {
   "cell_type": "markdown",
   "metadata": {},
   "source": [
    "<center><h1><strong>Model Validation</h1></strong></center>\n",
    "\n",
    "<br>\n",
    "\n",
    "<div align = \"justify\">\n",
    "    The validation of a mathematical model is a crucial step in the design of experiments practice because it garantees both the viablility and the domain of the model.\n",
    "</div>\n",
    "\n",
    "<br>\n",
    "\n",
    "<div align = \"justify\">\n",
    "    The Quantitative Structure Property Relationship (QSPR) has this steps$^{[3]}$:\n",
    "    <br>\n",
    "    <br>\n",
    "    <i>Common practices:</i>\n",
    "    <ol type='1'>\n",
    "        <li><strong>Data preparation:</strong>\n",
    "            Includes $(i)$ collection and cleaning of data; $(ii)$ calculation of molecular descriptors; and $(iii)$ merging the property descriptors in a database.\n",
    "        </li>\n",
    "        <li><strong>Model generation:</strong>\n",
    "            Implies estiablishing statistically significant relationships between target property and descriptor values.\n",
    "        </li>\n",
    "     <br>\n",
    "        <i><strong>Not-so-common</strong> practices:</i>\n",
    "        <br>\n",
    "     <br>\n",
    "        <li><strong>Model validation:</strong>\n",
    "            Implies quantitative assessement of model robustness.\n",
    "        </li>\n",
    "        <li><strong>Definition of the application domain of the model.</strong> \n",
    "        </li>\n",
    "    </ol>\n",
    "</div>"
   ]
  },
  {
   "cell_type": "code",
   "execution_count": 2,
   "metadata": {
    "scrolled": true
   },
   "outputs": [],
   "source": [
    "%store -r Modelo\n",
    "%store -r Data_Val\n",
    "%store -r Data_Plant\n",
    "%store -r nombre_bd\n",
    "%store -r Estab\n",
    "%store -r Datos\n",
    "%store -r archivo\n",
    "%store -r current_dir\n",
    "import sys\n",
    "sys.path.insert(0, current_dir)"
   ]
  },
  {
   "cell_type": "markdown",
   "metadata": {},
   "source": [
    "## Validation Methodologies $^{[3]}$\n",
    "\n",
    "<br>\n",
    "\n",
    "There are different methologies applied for a model validation, among them:\n",
    "\n",
    "* __LMO:__ The working methodology of the _leave-many-out_ validation procedure is that if a QSPR model has a high $q^2$ during the validation process, then it is concluded that the model is robust. The $n$ data is divided in $G$ groups of equal size$m_j \\left( = n/G \\right)$. A gorup of models are developed for each $n-m_j$ objects in the training set and $m_j$ objects in the validation set. For each model, $m_j$ objects are predicted and $q^2$ computed. Ideal expectation is high average $q^2$.\n",
    "\n",
    "* __Bootstrapping:__ is a resampling methodology that works with a representative data set of the population. There is only one data set, bootstraping simulates what would happen if the samples were selected randomly. Like the _LMO_ procedure, the most robust model is the one with the biggest $q^2$.\n",
    "\n",
    "* __Y-randomization Test:__ Widely used technique to ensure the robustness of a QSPR model. In this test, the Y vector is randomly shuffled and a new QSPR model is developed using the original independent-variable matrix. If all QSPR models obtained in the Y-randomizartion test have relatively high $R^2$ and LOO $q^2$, it implies that an acceptable QSPR model cannot be obtained for the given data set by the current modeling method.\n",
    "\n",
    "<div align=\"justify\">\n",
    "    The validation methodology proposed in this work is the <i>Y-randomization Test</i>.\n",
    "</div>"
   ]
  },
  {
   "cell_type": "code",
   "execution_count": 3,
   "metadata": {
    "scrolled": true
   },
   "outputs": [
    {
     "data": {
      "text/html": [
       "<table><tr><td>$ R ^2 _{cal} $</td><td>$ R^2 _{val} $</td><td>$RMSEC$</td><td>$RMSEP$</td><td>$LOF$</td><td>$\\beta _0 $</td><td>$\\beta _1 $</td><td>$\\beta _2 $</td><td>$\\beta _3 $</td><td>$\\beta _4 $</td><td>$\\beta _5 $</td><td>$\\beta _6 $</td></tr><tr><td>0.973</td><td>0.658</td><td>0.739</td><td>18.883</td><td>67.612</td><td>2.667</td><td>1.098</td><td>0.806</td><td>2.447</td><td>3.754</td><td>1.921</td><td>-4.216</td></tr><tr><td>0.985</td><td>0.763</td><td>0.55</td><td>9.315</td><td>31.539</td><td>2.809</td><td>1.019</td><td>1.182</td><td>2.257</td><td>3.377</td><td>2.164</td><td>-4.448</td></tr><tr><td>0.973</td><td>-2.408</td><td>0.68</td><td>126.806</td><td>440.457</td><td>2.651</td><td>0.983</td><td>0.945</td><td>2.504</td><td>4.194</td><td>2.082</td><td>-5.089</td></tr><tr><td>0.974</td><td>0.948</td><td>0.681</td><td>1.123</td><td>5.105</td><td>2.857</td><td>0.973</td><td>0.814</td><td>2.332</td><td>3.745</td><td>2.182</td><td>-4.443</td></tr><tr><td>0.971</td><td>-0.404</td><td>0.779</td><td>42.855</td><td>151.374</td><td>2.613</td><td>1.035</td><td>1.02</td><td>2.337</td><td>3.54</td><td>2.152</td><td>-4.473</td></tr><tr><td>0.969</td><td>0.967</td><td>0.598</td><td>0.869</td><td>2.948</td><td>2.861</td><td>1.183</td><td>0.812</td><td>2.085</td><td>4.118</td><td>1.991</td><td>-4.752</td></tr></table>"
      ],
      "text/plain": [
       "<IPython.core.display.HTML object>"
      ]
     },
     "metadata": {},
     "output_type": "display_data"
    },
    {
     "data": {
      "text/plain": [
       "<App.Validation.Results.TablaAlY at 0x5f91530>"
      ]
     },
     "execution_count": 3,
     "metadata": {},
     "output_type": "execute_result"
    }
   ],
   "source": [
    "from App.Validation.AlY import AleatoriedadY\n",
    "from App.Validation.Results import TablaAlY\n",
    "AlY = AleatoriedadY(Modelo, Datos['Y'], Estab, nombre_bd)\n",
    "ValData = AlY.Respuesta\n",
    "TablaAlY(ValData, Modelo['Ecuación'])"
   ]
  },
  {
   "cell_type": "markdown",
   "metadata": {},
   "source": [
    "# __Save__\n",
    "\n",
    "<div align = \"justify\">\n",
    "    All the results are going to be saved in the next direction: 'App/DataBase/Resultados'.\n",
    "</div>"
   ]
  },
  {
   "cell_type": "code",
   "execution_count": 4,
   "metadata": {
    "scrolled": true
   },
   "outputs": [
    {
     "ename": "FileNotFoundError",
     "evalue": "[Errno 2] No such file or directory: 'App/DataBase/Resultados/1/MathModel.csv'",
     "output_type": "error",
     "traceback": [
      "\u001b[1;31m---------------------------------------------------------------------------\u001b[0m",
      "\u001b[1;31mFileNotFoundError\u001b[0m                         Traceback (most recent call last)",
      "\u001b[1;32m<ipython-input-4-d7b3a960843a>\u001b[0m in \u001b[0;36m<module>\u001b[1;34m\u001b[0m\n\u001b[0;32m      1\u001b[0m \u001b[1;32mfrom\u001b[0m \u001b[0mApp\u001b[0m\u001b[1;33m.\u001b[0m\u001b[0mDataBase\u001b[0m\u001b[1;33m.\u001b[0m\u001b[0mGuardar\u001b[0m \u001b[1;32mimport\u001b[0m \u001b[0mSave\u001b[0m\u001b[1;33m\u001b[0m\u001b[1;33m\u001b[0m\u001b[0m\n\u001b[1;32m----> 2\u001b[1;33m \u001b[0mSave\u001b[0m\u001b[1;33m(\u001b[0m\u001b[0mModelo\u001b[0m\u001b[1;33m,\u001b[0m \u001b[0mValData\u001b[0m\u001b[1;33m,\u001b[0m \u001b[0mDatos\u001b[0m\u001b[1;33m[\u001b[0m\u001b[1;34m'Y'\u001b[0m\u001b[1;33m]\u001b[0m\u001b[1;33m,\u001b[0m \u001b[0marchivo\u001b[0m\u001b[1;33m)\u001b[0m\u001b[1;33m\u001b[0m\u001b[1;33m\u001b[0m\u001b[0m\n\u001b[0m",
      "\u001b[1;32m~\\Desktop\\Maestría\\Semestres\\Semestre I\\MathModel\\App\\DataBase\\Guardar.py\u001b[0m in \u001b[0;36m__init__\u001b[1;34m(self, Modelo, ValData, Y, filename)\u001b[0m\n\u001b[0;32m      9\u001b[0m                 \u001b[0mself\u001b[0m\u001b[1;33m.\u001b[0m\u001b[0mruta\u001b[0m \u001b[1;33m=\u001b[0m \u001b[1;34m'App/DataBase/Resultados/'\u001b[0m\u001b[1;33m\u001b[0m\u001b[1;33m\u001b[0m\u001b[0m\n\u001b[0;32m     10\u001b[0m                 \u001b[0mself\u001b[0m\u001b[1;33m.\u001b[0m\u001b[0mCrearDic\u001b[0m\u001b[1;33m(\u001b[0m\u001b[0mfilename\u001b[0m\u001b[1;33m)\u001b[0m\u001b[1;33m\u001b[0m\u001b[1;33m\u001b[0m\u001b[0m\n\u001b[1;32m---> 11\u001b[1;33m                 \u001b[0mself\u001b[0m\u001b[1;33m.\u001b[0m\u001b[0mGuarda\u001b[0m\u001b[1;33m(\u001b[0m\u001b[0mModelo\u001b[0m\u001b[1;33m,\u001b[0m \u001b[0mValData\u001b[0m\u001b[1;33m,\u001b[0m \u001b[0mY\u001b[0m\u001b[1;33m,\u001b[0m \u001b[0mfilename\u001b[0m\u001b[1;33m)\u001b[0m\u001b[1;33m\u001b[0m\u001b[1;33m\u001b[0m\u001b[0m\n\u001b[0m\u001b[0;32m     12\u001b[0m \u001b[1;33m\u001b[0m\u001b[0m\n\u001b[0;32m     13\u001b[0m         \u001b[1;32mdef\u001b[0m \u001b[0mCrearDic\u001b[0m\u001b[1;33m(\u001b[0m\u001b[0mself\u001b[0m\u001b[1;33m,\u001b[0m \u001b[0mfilename\u001b[0m\u001b[1;33m)\u001b[0m\u001b[1;33m:\u001b[0m\u001b[1;33m\u001b[0m\u001b[1;33m\u001b[0m\u001b[0m\n",
      "\u001b[1;32m~\\Desktop\\Maestría\\Semestres\\Semestre I\\MathModel\\App\\DataBase\\Guardar.py\u001b[0m in \u001b[0;36mGuarda\u001b[1;34m(self, Modelo, ValData, Y, filename)\u001b[0m\n\u001b[0;32m     28\u001b[0m                 \u001b[0mcsv_file\u001b[0m \u001b[1;33m=\u001b[0m \u001b[0mself\u001b[0m\u001b[1;33m.\u001b[0m\u001b[0mruta\u001b[0m \u001b[1;33m+\u001b[0m \u001b[1;34m'MathModel'\u001b[0m \u001b[1;33m+\u001b[0m \u001b[1;34m'.csv'\u001b[0m\u001b[1;33m\u001b[0m\u001b[1;33m\u001b[0m\u001b[0m\n\u001b[0;32m     29\u001b[0m                 \u001b[0mcsv_columns\u001b[0m\u001b[1;33m,\u001b[0m \u001b[0mdict_data\u001b[0m \u001b[1;33m=\u001b[0m \u001b[0mself\u001b[0m\u001b[1;33m.\u001b[0m\u001b[0mModeloMat\u001b[0m\u001b[1;33m(\u001b[0m\u001b[0mModelo\u001b[0m\u001b[1;33m,\u001b[0m \u001b[0mY\u001b[0m\u001b[1;33m)\u001b[0m\u001b[1;33m\u001b[0m\u001b[1;33m\u001b[0m\u001b[0m\n\u001b[1;32m---> 30\u001b[1;33m                 \u001b[0mInfo\u001b[0m\u001b[1;33m(\u001b[0m\u001b[1;33m)\u001b[0m\u001b[1;33m\u001b[0m\u001b[1;33m\u001b[0m\u001b[0m\n\u001b[0m\u001b[0;32m     31\u001b[0m \u001b[1;33m\u001b[0m\u001b[0m\n\u001b[0;32m     32\u001b[0m                 \u001b[1;31m#Validación\u001b[0m\u001b[1;33m\u001b[0m\u001b[1;33m\u001b[0m\u001b[1;33m\u001b[0m\u001b[0m\n",
      "\u001b[1;32m~\\Desktop\\Maestría\\Semestres\\Semestre I\\MathModel\\App\\DataBase\\Guardar.py\u001b[0m in \u001b[0;36mInfo\u001b[1;34m()\u001b[0m\n\u001b[0;32m     20\u001b[0m         \u001b[1;32mdef\u001b[0m \u001b[0mGuarda\u001b[0m\u001b[1;33m(\u001b[0m\u001b[0mself\u001b[0m\u001b[1;33m,\u001b[0m \u001b[0mModelo\u001b[0m\u001b[1;33m,\u001b[0m \u001b[0mValData\u001b[0m\u001b[1;33m,\u001b[0m \u001b[0mY\u001b[0m\u001b[1;33m,\u001b[0m \u001b[0mfilename\u001b[0m\u001b[1;33m)\u001b[0m\u001b[1;33m:\u001b[0m\u001b[1;33m\u001b[0m\u001b[1;33m\u001b[0m\u001b[0m\n\u001b[0;32m     21\u001b[0m                 \u001b[1;32mdef\u001b[0m \u001b[0mInfo\u001b[0m\u001b[1;33m(\u001b[0m\u001b[1;33m)\u001b[0m\u001b[1;33m:\u001b[0m\u001b[1;33m\u001b[0m\u001b[1;33m\u001b[0m\u001b[0m\n\u001b[1;32m---> 22\u001b[1;33m                         \u001b[1;32mwith\u001b[0m \u001b[0mopen\u001b[0m\u001b[1;33m(\u001b[0m\u001b[0mcsv_file\u001b[0m\u001b[1;33m,\u001b[0m \u001b[1;34m'w'\u001b[0m\u001b[1;33m)\u001b[0m \u001b[1;32mas\u001b[0m \u001b[0mcsvfile\u001b[0m\u001b[1;33m:\u001b[0m\u001b[1;33m\u001b[0m\u001b[1;33m\u001b[0m\u001b[0m\n\u001b[0m\u001b[0;32m     23\u001b[0m                                 \u001b[0mwriter\u001b[0m \u001b[1;33m=\u001b[0m \u001b[0mcsv\u001b[0m\u001b[1;33m.\u001b[0m\u001b[0mDictWriter\u001b[0m\u001b[1;33m(\u001b[0m\u001b[0mcsvfile\u001b[0m\u001b[1;33m,\u001b[0m \u001b[0mfieldnames\u001b[0m\u001b[1;33m=\u001b[0m\u001b[0mcsv_columns\u001b[0m\u001b[1;33m)\u001b[0m\u001b[1;33m\u001b[0m\u001b[1;33m\u001b[0m\u001b[0m\n\u001b[0;32m     24\u001b[0m                                 \u001b[0mwriter\u001b[0m\u001b[1;33m.\u001b[0m\u001b[0mwriteheader\u001b[0m\u001b[1;33m(\u001b[0m\u001b[1;33m)\u001b[0m\u001b[1;33m\u001b[0m\u001b[1;33m\u001b[0m\u001b[0m\n",
      "\u001b[1;31mFileNotFoundError\u001b[0m: [Errno 2] No such file or directory: 'App/DataBase/Resultados/1/MathModel.csv'"
     ]
    }
   ],
   "source": [
    "from App.DataBase.Guardar import Save\n",
    "Save(Modelo, ValData, Datos['Y'], archivo)"
   ]
  }
 ],
 "metadata": {
  "kernelspec": {
   "display_name": "Python 3",
   "language": "python",
   "name": "python3"
  },
  "language_info": {
   "codemirror_mode": {
    "name": "ipython",
    "version": 3
   },
   "file_extension": ".py",
   "mimetype": "text/x-python",
   "name": "python",
   "nbconvert_exporter": "python",
   "pygments_lexer": "ipython3",
   "version": "3.7.4"
  }
 },
 "nbformat": 4,
 "nbformat_minor": 4
}
