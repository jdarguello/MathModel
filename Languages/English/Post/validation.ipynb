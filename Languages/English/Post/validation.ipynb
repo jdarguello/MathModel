{
 "cells": [
  {
   "cell_type": "markdown",
   "metadata": {},
   "source": [
    "<center><h1><strong>Model Validation</h1></strong></center>\n",
    "\n",
    "<br>\n",
    "\n",
    "<div align = \"justify\">\n",
    "    The validation of a mathematical model is a crucial step in the design of experiments practice because it garantees both the viablility and the domain of the model.\n",
    "</div>\n",
    "\n",
    "<br>\n",
    "\n",
    "<div align = \"justify\">\n",
    "    The Quantitative Structure Property Relationship (QSPR) has this steps$^{[3]}$:\n",
    "    <br>\n",
    "    <br>\n",
    "    <i>Common practices:</i>\n",
    "    <ol type='1'>\n",
    "        <li><strong>Data preparation:</strong>\n",
    "            Includes $(i)$ collection and cleaning of data; $(ii)$ calculation of molecular descriptors; and $(iii)$ merging the property descriptors in a database.\n",
    "        </li>\n",
    "        <li><strong>Model generation:</strong>\n",
    "            Implies estiablishing statistically significant relationships between target property and descriptor values.\n",
    "        </li>\n",
    "     <br>\n",
    "        <i><strong>Not-so-common</strong> practices:</i>\n",
    "        <br>\n",
    "     <br>\n",
    "        <li><strong>Model validation:</strong>\n",
    "            Implies quantitative assessement of model robustness.\n",
    "        </li>\n",
    "        <li><strong>Definition of the application domain of the model.</strong> \n",
    "        </li>\n",
    "    </ol>\n",
    "</div>"
   ]
  },
  {
   "cell_type": "code",
   "execution_count": 2,
   "metadata": {
    "scrolled": true
   },
   "outputs": [],
   "source": [
    "%store -r Modelo\n",
    "%store -r Data_Val\n",
    "%store -r Data_Plant\n",
    "%store -r nombre_bd\n",
    "%store -r Estab\n",
    "%store -r Datos\n",
    "%store -r archivo\n",
    "%store -r current_dir\n",
    "import sys\n",
    "sys.path.insert(0, current_dir)"
   ]
  },
  {
   "cell_type": "markdown",
   "metadata": {},
   "source": [
    "## Validation Methodologies\n",
    "\n",
    "<br>\n",
    "\n",
    "There are different methologies applied for a model validation, among them:\n",
    "\n",
    "* __LMO:__ La premisa de esta metodología está en que si un modelo QSPR tiene una media alta $q^2$ durante el proceso de validación, se puede concluir que el modelo obtenido es robusto. Los $n$ datos se dividen en $G$ grupos de igual tamaño, $m_j \\left( = n/G \\right)$. Dependiendo del valor de $n$, $G$ generalmente se selecciona entre 2 y 10. Un gran grupo de modelos son desarrollados con cada $n-m_j$ objetos en el conjunto de entrenamiento y $m_j$ objetos en el conjunto de validación. Para cada modelo correspondiente, se predicen los objetos $m_j$ y se computa $q^2$. Son deseables altos valores de $q^2$.\n",
    "\n",
    "* __Bootstrapping:__ Metodología de remuestreo que funciona con una muestra representativa de la población. Como sólo hay un grupo de datos, el bootstrapping simula qué ocurriría si las muestras se seleccionaran de manera aleatoria. En un procedimiento de validación típico, se generan $k$ grupos aleatorios de tamaño $n$ del grupo de datos original. Al igual que la validación LMO, es deseable un alto $q^2$ que demuestre la robustez del modelo.\n",
    "\n",
    "* __Prueba de aleatoriedad - Y:__ Técnica ampliamente usada para garantizar la robustez del modelo QSPR. En esta prueba, el vector de variables dependiente, Y, se cambia de manera aleatoria para la generación de un nuevo modelo QSPR usando la matriz original de variables independientes. El proceso se repite en varias ocasiones. Se espera que los modelos QSPR resultantes tengan bajos valores de $R^2$ y LOO (Leave-One-Out) $q^2$. Es probable, aunque infrecuente, que se obtengan altos valores $q^2$ debido a una correlación fortuita o una redundancia estructural del conjunto de datos. Si todos los modelos QSPR obtenidos por aleatoriedad - Y presentan altos valores de $R^2$ y $q^2$, implica que un modelo QSPR aceptable __no__ puede ser obtenido por el grupo de datos dado.\n",
    "\n",
    "* __Validación externa:__ \n",
    "\n",
    "    * _Selección de datos de planteamiento y validación:_ En situaciones típicas, es difícil encontrar nuevos compuestos probados experimentalmente para este propósito. El recurso empleado es, entonces, dividir el conjunto de datos experimentales en datos para el plantemiento del modelo QSPR y datos para validación externa. El objetivo en esta etapa es garantizar que tanto los datos de validación como los de planteamiento ocupen el mismo dominio del fenómeno físico-químico de estudio. La partición de datos entre planteamiento y validación es un área de investigación activa. Es recomendable que el conjunto de validación externa contenga al menos 5 compuestos que describan el rango de actividad de los compuestos incluidos en el conjunto de planteamiento. Está demostrado que modelos QSPR desarrollados y validados mediante esta metodología tiene un alcance predictivo mayor que los mencionados anteriormente.\n",
    "    \n",
    "    * _Evaluación del poder predictivo de modelos QSPR:_ En orden de estimar la verdadera capacidad predictiva del modelo QSPR, es necesario comparar las actividades predecibles y observadas de una base de datos lo suficientemente grande que no hubiese sido empleada para el desarrollo del modelo matemático. El poder predictivo del modelo QSPR se puede estimar mediante un $q^2$ externo definido mediante la Ecuación \\ref{q2}.\n",
    "    \n",
    "    $$\n",
    "    \\begin{equation}\n",
    "        q^2 _{ext} = 1 - \\frac{\\sum ^{Pr} _{i=1} \\left( y_i - \\hat{y} _i \\right) ^2}{\\sum ^{Pr} _{i=1} \\left( y_i - \\bar{y} _{tr} \\right) ^2}\n",
    "        \\label{q2}\n",
    "        \\tag{1}\n",
    "    \\end{equation}\n",
    "    $$\n",
    "    Dónde $y_i$ y $\\hat{y} _i$ son los valores medido y predecido, respectivamente, de la variable dependiente $\\bar{y} _{tr}$, que es el valor medio del conjunto de datos.\n",
    "    \n",
    "    Se considera que el modelo es __predictivo__ cuando se satisfacen las siguientes condiciones:\n",
    "    $$\n",
    "    \\begin{equation}\n",
    "        \\begin{array}\n",
    "            q q^2 > 0.5\\\\ \\\\\n",
    "            R ^2 > 0.6 \\\\ \\\\\n",
    "            \\frac{\\left(R^2 - R ^2 _0 \\right)}{R^2} < 0.1 \\\\ \\\\\n",
    "            0.85 \\leq k \\leq 1.15\n",
    "        \\end{array}\n",
    "    \\end{equation}\n",
    "    $$\n",
    "\n",
    "La metodología de validación empleada a continuación es la __prueba de aleatoriedad - Y__."
   ]
  },
  {
   "cell_type": "code",
   "execution_count": 4,
   "metadata": {
    "scrolled": true
   },
   "outputs": [
    {
     "data": {
      "text/html": [
       "<table><tr><td>$ R ^2 _{cal} $</td><td>$ R^2 _{val} $</td><td>$RMSEC$</td><td>$RMSEP$</td><td>$LOF$</td><td>$\\beta _0 $</td><td>$\\beta _1 $</td><td>$\\beta _2 $</td><td>$\\beta _3 $</td><td>$\\beta _4 $</td><td>$\\beta _5 $</td><td>$\\beta _6 $</td></tr><tr><td>0.988</td><td>0.315</td><td>0.514</td><td>48.813</td><td>167.909</td><td>2.673</td><td>0.786</td><td>1.094</td><td>2.288</td><td>3.465</td><td>2.214</td><td>-4.238</td></tr><tr><td>0.942</td><td>0.953</td><td>1.006</td><td>1.319</td><td>12.359</td><td>2.933</td><td>0.864</td><td>0.998</td><td>2.238</td><td>-2.076</td><td>1.933</td><td>0.0</td></tr><tr><td>0.974</td><td>0.767</td><td>0.67</td><td>6.836</td><td>24.707</td><td>2.685</td><td>1.227</td><td>1.007</td><td>2.412</td><td>4.074</td><td>2.167</td><td>-5.117</td></tr><tr><td>0.963</td><td>-0.085</td><td>0.872</td><td>68.527</td><td>242.16</td><td>2.732</td><td>1.077</td><td>0.975</td><td>2.291</td><td>3.584</td><td>2.061</td><td>-4.518</td></tr><tr><td>-0.837</td><td>0.915</td><td>4.078</td><td>1.679</td><td>200.998</td><td>3.478</td><td>1.305</td><td>-1.545</td><td>1.538</td><td>5.458</td><td>2.052</td><td>1.432</td></tr><tr><td>0.959</td><td>0.96</td><td>0.629</td><td>0.712</td><td>2.854</td><td>2.9</td><td>1.106</td><td>0.493</td><td>2.077</td><td>3.665</td><td>2.068</td><td>-4.156</td></tr></table>"
      ],
      "text/plain": [
       "<IPython.core.display.HTML object>"
      ]
     },
     "metadata": {},
     "output_type": "display_data"
    },
    {
     "data": {
      "text/plain": [
       "<App.Validation.Results.TablaAlY at 0x5e3acf0>"
      ]
     },
     "execution_count": 4,
     "metadata": {},
     "output_type": "execute_result"
    }
   ],
   "source": [
    "from App.Validation.AlY import AleatoriedadY\n",
    "from App.Validation.Results import TablaAlY\n",
    "AlY = AleatoriedadY(Modelo, Datos['Y'], Estab, nombre_bd)\n",
    "ValData = AlY.Respuesta\n",
    "TablaAlY(ValData, Modelo['Ecuación'])"
   ]
  },
  {
   "cell_type": "markdown",
   "metadata": {},
   "source": [
    "## Definición del dominio de aplicación\n",
    "\n",
    "<br>\n",
    "\n",
    "<div align = \"justify\">\n",
    "    No importa cuán robusto sea el modelo QSPR validado: <i>no es confiable pensar que los resultados del modelo apliquen para todo el universo químico.</i> \n",
    "</div>"
   ]
  },
  {
   "cell_type": "code",
   "execution_count": null,
   "metadata": {
    "scrolled": true
   },
   "outputs": [],
   "source": []
  },
  {
   "cell_type": "markdown",
   "metadata": {},
   "source": [
    "# __Guardar__\n",
    "\n",
    "<br> \n",
    "\n",
    "<div align = \"justify\">\n",
    "    Los resultados, tanto los del desarrollo del modelo matemático como los de validación, se guardarán y los podrás encontrar en la dirección: App/DataBase/Resultados\n",
    "</div>"
   ]
  },
  {
   "cell_type": "code",
   "execution_count": 5,
   "metadata": {
    "scrolled": true
   },
   "outputs": [
    {
     "ename": "FileNotFoundError",
     "evalue": "[Errno 2] No such file or directory: 'App/DataBase/Resultados/1/MathModel.csv'",
     "output_type": "error",
     "traceback": [
      "\u001b[1;31m---------------------------------------------------------------------------\u001b[0m",
      "\u001b[1;31mFileNotFoundError\u001b[0m                         Traceback (most recent call last)",
      "\u001b[1;32m<ipython-input-5-d7b3a960843a>\u001b[0m in \u001b[0;36m<module>\u001b[1;34m\u001b[0m\n\u001b[0;32m      1\u001b[0m \u001b[1;32mfrom\u001b[0m \u001b[0mApp\u001b[0m\u001b[1;33m.\u001b[0m\u001b[0mDataBase\u001b[0m\u001b[1;33m.\u001b[0m\u001b[0mGuardar\u001b[0m \u001b[1;32mimport\u001b[0m \u001b[0mSave\u001b[0m\u001b[1;33m\u001b[0m\u001b[1;33m\u001b[0m\u001b[0m\n\u001b[1;32m----> 2\u001b[1;33m \u001b[0mSave\u001b[0m\u001b[1;33m(\u001b[0m\u001b[0mModelo\u001b[0m\u001b[1;33m,\u001b[0m \u001b[0mValData\u001b[0m\u001b[1;33m,\u001b[0m \u001b[0mDatos\u001b[0m\u001b[1;33m[\u001b[0m\u001b[1;34m'Y'\u001b[0m\u001b[1;33m]\u001b[0m\u001b[1;33m,\u001b[0m \u001b[0marchivo\u001b[0m\u001b[1;33m)\u001b[0m\u001b[1;33m\u001b[0m\u001b[1;33m\u001b[0m\u001b[0m\n\u001b[0m",
      "\u001b[1;32m~\\Desktop\\Maestría\\Semestres\\Semestre I\\MathModel\\App\\DataBase\\Guardar.py\u001b[0m in \u001b[0;36m__init__\u001b[1;34m(self, Modelo, ValData, Y, filename)\u001b[0m\n\u001b[0;32m      9\u001b[0m                 \u001b[0mself\u001b[0m\u001b[1;33m.\u001b[0m\u001b[0mruta\u001b[0m \u001b[1;33m=\u001b[0m \u001b[1;34m'App/DataBase/Resultados/'\u001b[0m\u001b[1;33m\u001b[0m\u001b[1;33m\u001b[0m\u001b[0m\n\u001b[0;32m     10\u001b[0m                 \u001b[0mself\u001b[0m\u001b[1;33m.\u001b[0m\u001b[0mCrearDic\u001b[0m\u001b[1;33m(\u001b[0m\u001b[0mfilename\u001b[0m\u001b[1;33m)\u001b[0m\u001b[1;33m\u001b[0m\u001b[1;33m\u001b[0m\u001b[0m\n\u001b[1;32m---> 11\u001b[1;33m                 \u001b[0mself\u001b[0m\u001b[1;33m.\u001b[0m\u001b[0mGuarda\u001b[0m\u001b[1;33m(\u001b[0m\u001b[0mModelo\u001b[0m\u001b[1;33m,\u001b[0m \u001b[0mValData\u001b[0m\u001b[1;33m,\u001b[0m \u001b[0mY\u001b[0m\u001b[1;33m,\u001b[0m \u001b[0mfilename\u001b[0m\u001b[1;33m)\u001b[0m\u001b[1;33m\u001b[0m\u001b[1;33m\u001b[0m\u001b[0m\n\u001b[0m\u001b[0;32m     12\u001b[0m \u001b[1;33m\u001b[0m\u001b[0m\n\u001b[0;32m     13\u001b[0m         \u001b[1;32mdef\u001b[0m \u001b[0mCrearDic\u001b[0m\u001b[1;33m(\u001b[0m\u001b[0mself\u001b[0m\u001b[1;33m,\u001b[0m \u001b[0mfilename\u001b[0m\u001b[1;33m)\u001b[0m\u001b[1;33m:\u001b[0m\u001b[1;33m\u001b[0m\u001b[1;33m\u001b[0m\u001b[0m\n",
      "\u001b[1;32m~\\Desktop\\Maestría\\Semestres\\Semestre I\\MathModel\\App\\DataBase\\Guardar.py\u001b[0m in \u001b[0;36mGuarda\u001b[1;34m(self, Modelo, ValData, Y, filename)\u001b[0m\n\u001b[0;32m     28\u001b[0m                 \u001b[0mcsv_file\u001b[0m \u001b[1;33m=\u001b[0m \u001b[0mself\u001b[0m\u001b[1;33m.\u001b[0m\u001b[0mruta\u001b[0m \u001b[1;33m+\u001b[0m \u001b[1;34m'MathModel'\u001b[0m \u001b[1;33m+\u001b[0m \u001b[1;34m'.csv'\u001b[0m\u001b[1;33m\u001b[0m\u001b[1;33m\u001b[0m\u001b[0m\n\u001b[0;32m     29\u001b[0m                 \u001b[0mcsv_columns\u001b[0m\u001b[1;33m,\u001b[0m \u001b[0mdict_data\u001b[0m \u001b[1;33m=\u001b[0m \u001b[0mself\u001b[0m\u001b[1;33m.\u001b[0m\u001b[0mModeloMat\u001b[0m\u001b[1;33m(\u001b[0m\u001b[0mModelo\u001b[0m\u001b[1;33m,\u001b[0m \u001b[0mY\u001b[0m\u001b[1;33m)\u001b[0m\u001b[1;33m\u001b[0m\u001b[1;33m\u001b[0m\u001b[0m\n\u001b[1;32m---> 30\u001b[1;33m                 \u001b[0mInfo\u001b[0m\u001b[1;33m(\u001b[0m\u001b[1;33m)\u001b[0m\u001b[1;33m\u001b[0m\u001b[1;33m\u001b[0m\u001b[0m\n\u001b[0m\u001b[0;32m     31\u001b[0m \u001b[1;33m\u001b[0m\u001b[0m\n\u001b[0;32m     32\u001b[0m                 \u001b[1;31m#Validación\u001b[0m\u001b[1;33m\u001b[0m\u001b[1;33m\u001b[0m\u001b[1;33m\u001b[0m\u001b[0m\n",
      "\u001b[1;32m~\\Desktop\\Maestría\\Semestres\\Semestre I\\MathModel\\App\\DataBase\\Guardar.py\u001b[0m in \u001b[0;36mInfo\u001b[1;34m()\u001b[0m\n\u001b[0;32m     20\u001b[0m         \u001b[1;32mdef\u001b[0m \u001b[0mGuarda\u001b[0m\u001b[1;33m(\u001b[0m\u001b[0mself\u001b[0m\u001b[1;33m,\u001b[0m \u001b[0mModelo\u001b[0m\u001b[1;33m,\u001b[0m \u001b[0mValData\u001b[0m\u001b[1;33m,\u001b[0m \u001b[0mY\u001b[0m\u001b[1;33m,\u001b[0m \u001b[0mfilename\u001b[0m\u001b[1;33m)\u001b[0m\u001b[1;33m:\u001b[0m\u001b[1;33m\u001b[0m\u001b[1;33m\u001b[0m\u001b[0m\n\u001b[0;32m     21\u001b[0m                 \u001b[1;32mdef\u001b[0m \u001b[0mInfo\u001b[0m\u001b[1;33m(\u001b[0m\u001b[1;33m)\u001b[0m\u001b[1;33m:\u001b[0m\u001b[1;33m\u001b[0m\u001b[1;33m\u001b[0m\u001b[0m\n\u001b[1;32m---> 22\u001b[1;33m                         \u001b[1;32mwith\u001b[0m \u001b[0mopen\u001b[0m\u001b[1;33m(\u001b[0m\u001b[0mcsv_file\u001b[0m\u001b[1;33m,\u001b[0m \u001b[1;34m'w'\u001b[0m\u001b[1;33m)\u001b[0m \u001b[1;32mas\u001b[0m \u001b[0mcsvfile\u001b[0m\u001b[1;33m:\u001b[0m\u001b[1;33m\u001b[0m\u001b[1;33m\u001b[0m\u001b[0m\n\u001b[0m\u001b[0;32m     23\u001b[0m                                 \u001b[0mwriter\u001b[0m \u001b[1;33m=\u001b[0m \u001b[0mcsv\u001b[0m\u001b[1;33m.\u001b[0m\u001b[0mDictWriter\u001b[0m\u001b[1;33m(\u001b[0m\u001b[0mcsvfile\u001b[0m\u001b[1;33m,\u001b[0m \u001b[0mfieldnames\u001b[0m\u001b[1;33m=\u001b[0m\u001b[0mcsv_columns\u001b[0m\u001b[1;33m)\u001b[0m\u001b[1;33m\u001b[0m\u001b[1;33m\u001b[0m\u001b[0m\n\u001b[0;32m     24\u001b[0m                                 \u001b[0mwriter\u001b[0m\u001b[1;33m.\u001b[0m\u001b[0mwriteheader\u001b[0m\u001b[1;33m(\u001b[0m\u001b[1;33m)\u001b[0m\u001b[1;33m\u001b[0m\u001b[1;33m\u001b[0m\u001b[0m\n",
      "\u001b[1;31mFileNotFoundError\u001b[0m: [Errno 2] No such file or directory: 'App/DataBase/Resultados/1/MathModel.csv'"
     ]
    }
   ],
   "source": [
    "from App.DataBase.Guardar import Save\n",
    "Save(Modelo, ValData, Datos['Y'], archivo)"
   ]
  }
 ],
 "metadata": {
  "kernelspec": {
   "display_name": "Python 3",
   "language": "python",
   "name": "python3"
  },
  "language_info": {
   "codemirror_mode": {
    "name": "ipython",
    "version": 3
   },
   "file_extension": ".py",
   "mimetype": "text/x-python",
   "name": "python",
   "nbconvert_exporter": "python",
   "pygments_lexer": "ipython3",
   "version": "3.7.4"
  }
 },
 "nbformat": 4,
 "nbformat_minor": 4
}
