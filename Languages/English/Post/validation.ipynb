{
 "cells": [
  {
   "cell_type": "markdown",
   "metadata": {},
   "source": [
    "<center><h1><strong>Model Validation</h1></strong></center>\n",
    "\n",
    "<br>\n",
    "\n",
    "<div align = \"justify\">\n",
    "    The validation of a mathematical model is a crucial step in the design of experiments practice because it garantees both the viablility and the domain of the model.\n",
    "</div>\n",
    "\n",
    "<br>\n",
    "\n",
    "<div align = \"justify\">\n",
    "    The Quantitative Structure Property Relationship (QSPR) has this steps$^{[3]}$:\n",
    "    <br>\n",
    "    <br>\n",
    "    <i>Common practices:</i>\n",
    "    <ol type='1'>\n",
    "        <li><strong>Data preparation:</strong>\n",
    "            Includes $(i)$ collection and cleaning of data; $(ii)$ calculation of molecular descriptors; and $(iii)$ merging the property descriptors in a database.\n",
    "        </li>\n",
    "        <li><strong>Model generation:</strong>\n",
    "            Implies estiablishing statistically significant relationships between target property and descriptor values.\n",
    "        </li>\n",
    "     <br>\n",
    "        <i><strong>Not-so-common</strong> practices:</i>\n",
    "        <br>\n",
    "     <br>\n",
    "        <li><strong>Model validation:</strong>\n",
    "            Implies quantitative assessement of model robustness.\n",
    "        </li>\n",
    "        <li><strong>Definition of the application domain of the model.</strong> \n",
    "        </li>\n",
    "    </ol>\n",
    "</div>"
   ]
  },
  {
   "cell_type": "code",
   "execution_count": null,
   "metadata": {
    "scrolled": true
   },
   "outputs": [],
   "source": [
    "%store -r Modelo\n",
    "%store -r Data_Val\n",
    "%store -r Data_Plant\n",
    "%store -r nombre_bd\n",
    "%store -r Estab\n",
    "%store -r Datos\n",
    "%store -r archivo\n",
    "%store -r current_dir\n",
    "import sys\n",
    "sys.path.insert(0, current_dir)"
   ]
  },
  {
   "cell_type": "markdown",
   "metadata": {},
   "source": [
    "## Validation Methodologies $^{[3]}$\n",
    "\n",
    "<br>\n",
    "\n",
    "There are different methologies applied for a model validation, among them:\n",
    "\n",
    "* __LMO:__ The working methodology of the _leave-many-out_ validation procedure is that if a QSPR model has a high $q^2$ during the validation process, then it is concluded that the model is robust. The $n$ data is divided in $G$ groups of equal size$m_j \\left( = n/G \\right)$. A gorup of models are developed for each $n-m_j$ objects in the training set and $m_j$ objects in the validation set. For each model, $m_j$ objects are predicted and $q^2$ computed. Ideal expectation is high average $q^2$.\n",
    "\n",
    "* __Bootstrapping:__ is a resampling methodology that works with a representative data set of the population. There is only one data set, bootstraping simulates what would happen if the samples were selected randomly. Like the _LMO_ procedure, the most robust model is the one with the biggest $q^2$.\n",
    "\n",
    "* __Y-randomization Test:__ Widely used technique to ensure the robustness of a QSPR model. In this test, the Y vector is randomly shuffled and a new QSPR model is developed using the original independent-variable matrix. If all QSPR models obtained in the Y-randomizartion test have relatively high $R^2$ and LOO $q^2$, it implies that an acceptable QSPR model cannot be obtained for the given data set by the current modeling method.\n",
    "\n",
    "<div align=\"justify\">\n",
    "    The validation methodology proposed in this work is the <i>Y-randomization Test</i>.\n",
    "</div>"
   ]
  },
  {
   "cell_type": "code",
   "execution_count": null,
   "metadata": {
    "scrolled": true
   },
   "outputs": [],
   "source": [
    "from App.Validation.AlY import AleatoriedadY\n",
    "from App.Validation.Results import TablaAlY\n",
    "AlY = AleatoriedadY(Modelo, Datos['Y'], Estab, nombre_bd)\n",
    "ValData = AlY.Respuesta\n",
    "TablaAlY(ValData, Modelo['Ecuación'])"
   ]
  },
  {
   "cell_type": "markdown",
   "metadata": {},
   "source": [
    "# __Save__\n",
    "\n",
    "<div align = \"justify\">\n",
    "    All the results are going to be saved in the next direction: 'App/DataBase/Resultados'.\n",
    "</div>"
   ]
  },
  {
   "cell_type": "code",
   "execution_count": null,
   "metadata": {
    "scrolled": true
   },
   "outputs": [],
   "source": [
    "from App.DataBase.Guardar import Save\n",
    "Save(current_dir, Modelo, ValData, Datos['Y'], archivo)"
   ]
  }
 ],
 "metadata": {
  "kernelspec": {
   "display_name": "Python 3",
   "language": "python",
   "name": "python3"
  },
  "language_info": {
   "codemirror_mode": {
    "name": "ipython",
    "version": 3
   },
   "file_extension": ".py",
   "mimetype": "text/x-python",
   "name": "python",
   "nbconvert_exporter": "python",
   "pygments_lexer": "ipython3",
   "version": "3.6.8"
  }
 },
 "nbformat": 4,
 "nbformat_minor": 4
}
