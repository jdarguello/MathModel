{
 "cells": [
  {
   "cell_type": "markdown",
   "metadata": {
    "slideshow": {
     "slide_type": "slide"
    }
   },
   "source": [
    "# __Mathematical Model__\n",
    "\n",
    "<br>\n",
    "\n",
    "<div align=\"justify\">\n",
    "    The mathematical model approach requires an analysis process of the variables to know which one has a bigger influence. We start by importing the experimental data of the problem to solve, then we make an statistical study through a normal distribution graph and a Pareto chart. Finally, we evaluate different mathematical models and choose the one that adapts best.\n",
    "</div>"
   ]
  },
  {
   "cell_type": "code",
   "execution_count": null,
   "metadata": {},
   "outputs": [],
   "source": [
    "%store -r Datos\n",
    "%store -r current_dir\n",
    "%store -r language\n",
    "import sys\n",
    "sys.path.insert(0, current_dir)"
   ]
  },
  {
   "cell_type": "markdown",
   "metadata": {
    "slideshow": {
     "slide_type": "slide"
    }
   },
   "source": [
    "## Stability\n",
    "\n",
    "<div align=\"justify\">\n",
    "    First, it is important to define the stability of the experiment.\n",
    "</div>"
   ]
  },
  {
   "cell_type": "code",
   "execution_count": null,
   "metadata": {},
   "outputs": [],
   "source": [
    "from App.Pretratamiento.Estabilidad import Est\n",
    "Estabilidad = Est(Datos, language)\n",
    "\n",
    "Estab = Estabilidad()\n",
    "%store Estab\n",
    "Estab"
   ]
  },
  {
   "cell_type": "markdown",
   "metadata": {},
   "source": [
    "## Experimental Cube\n",
    "\n",
    "The experimental cube (for 2 and 3 variables only) can be seen by executing the next block of code."
   ]
  },
  {
   "cell_type": "code",
   "execution_count": null,
   "metadata": {},
   "outputs": [],
   "source": [
    "%matplotlib inline\n",
    "from App.Pretratamiento.Cube import *\n",
    "ExpCube(Datos, language)"
   ]
  },
  {
   "cell_type": "markdown",
   "metadata": {
    "slideshow": {
     "slide_type": "subslide"
    }
   },
   "source": [
    "<div align = \"justify\">\n",
    "    It is important to make a discretization between the data used for the <i>model generation</i> and the remainig for the <i>model validation</i>.\n",
    "</div>\n",
    "\n",
    "<br>\n",
    "\n",
    "<div align = \"justify\">\n",
    "    The data used in the model generation are those seen in the experimental cube surface, while the model validation requires data from both inside and outside the experimental cube. In summary:\n",
    "</div>\n",
    "\n",
    "$$\n",
    "\\begin{equation}\n",
    "  Generation=\\left\\{\n",
    "    \\begin{array}{@{} l c @{}}\n",
    "      1 & \\text{Upper level} \\\\\n",
    "      0 & \\text{Cube's center}\\\\\n",
    "      -1 & \\text{Lower level}\n",
    "    \\end{array}\\right.\n",
    "\\end{equation}\n",
    "$$"
   ]
  },
  {
   "cell_type": "code",
   "execution_count": null,
   "metadata": {
    "slideshow": {
     "slide_type": "subslide"
    }
   },
   "outputs": [],
   "source": [
    "Data_Plant = Estabilidad.Plant\n",
    "Data_Val = Estabilidad.Val\n",
    "Data_Plant = Datos\n",
    "\n",
    "%store Data_Plant\n",
    "%store Data_Val"
   ]
  },
  {
   "cell_type": "markdown",
   "metadata": {
    "slideshow": {
     "slide_type": "slide"
    }
   },
   "source": [
    "## Analysis of Variance (ANOVA)\n",
    "\n",
    "<br>\n",
    "\n",
    "<div align=\"justify\">\n",
    "    Next, we will see the behavior of the experimental data through a Normal Distirbution Graph and a Pareto chart. In the Pareto, you can specify the percentage of effect you want to calculate a model (0% will take no variable while 100% take them all).\n",
    "</div>"
   ]
  },
  {
   "cell_type": "code",
   "execution_count": null,
   "metadata": {},
   "outputs": [],
   "source": [
    "%matplotlib inline\n",
    "from App.Pretratamiento.ANOVA import NormalGraph, Pareto\n",
    "NormDist = NormalGraph(Data_Plant)()\n",
    "%store NormDist"
   ]
  },
  {
   "cell_type": "code",
   "execution_count": null,
   "metadata": {
    "slideshow": {
     "slide_type": "subslide"
    }
   },
   "outputs": [],
   "source": [
    "%matplotlib inline\n",
    "#Verdadero = True    Falso = False\n",
    "P = Pareto(Data_Plant, porcentaje = 95, grid=True)\n",
    "Efecto = P.ef\n",
    "print('Variables:', Efecto)"
   ]
  },
  {
   "cell_type": "markdown",
   "metadata": {
    "slideshow": {
     "slide_type": "slide"
    }
   },
   "source": [
    "## __Mathematical Model Generation__\n",
    "\n",
    "<br>\n",
    "\n",
    "<div align=\"justify\">\n",
    "    At the <i>analysis of variance</i> section, we could see the variables with the biggest influence on the natural phenomena. In other words, it allows us to identify a starting point through the iterative calculation proccess. Thanks to technology, it is possible to evaluate hundreds (and even thousands) of mathematical models in a matter of minutes.\n",
    "</div>\n",
    "\n",
    "<br>\n",
    "\n",
    "<div align=\"justify\">\n",
    "    But, before thinking of solving multiple models simultaneously, we should focus on generating and evaluating our first model.\n",
    "</div>"
   ]
  },
  {
   "cell_type": "markdown",
   "metadata": {
    "slideshow": {
     "slide_type": "slide"
    }
   },
   "source": [
    "### Problem Statement\n",
    "\n",
    "<br> \n",
    "\n",
    "<div align=\"justify\">\n",
    "    The general model is of the type:\n",
    "</div>\n",
    "\n",
    "$$\n",
    "\\begin{equation}\n",
    "    Y = b X\n",
    "    \\label{General}\n",
    "    \\tag{1}\n",
    "\\end{equation}\n",
    "$$\n",
    "\n",
    "Where $Y$ correspond to the response variable, $b$ to the constants and $X$ to the variables."
   ]
  },
  {
   "cell_type": "markdown",
   "metadata": {
    "slideshow": {
     "slide_type": "subslide"
    }
   },
   "source": [
    "During the experimental experience, we obtained different response variables $\\left( Y_{exp} \\right)$, we already know our controlled variables $X$. We do not know the behavior of the constants, but we know that the mathematical model should be something like:\n",
    "\n",
    "$$\n",
    "\\begin{equation}\n",
    "    Y_{cal} = B_0 + B_1 X_1 + B_2 X_1 X_2 + B_3 X_3 ^2 + \\dots\n",
    "    \\label{Desglosada}\n",
    "    \\tag{2}\n",
    "\\end{equation}\n",
    "$$\n",
    "\n",
    "\n",
    "In matrix terms, Equation \\ref{Desglosada} is:\n",
    "\n",
    "$$\n",
    "\\begin{equation}\n",
    "    b = \\left( X^T X \\right) ^{-1} Y_{exp}\n",
    "    \\label{Const}\n",
    "    \\tag{3}\n",
    "\\end{equation}\n",
    "$$"
   ]
  },
  {
   "cell_type": "markdown",
   "metadata": {
    "slideshow": {
     "slide_type": "slide"
    }
   },
   "source": [
    "### Estimation Error\n",
    "\n",
    "The developed model has an intern error, which can be estimated through the calculation of the determination coeficients $\\left( R^2 \\, y \\, R^2 _{ajus} \\right)$, which can be seen on Equations \\ref{R2} y \\ref{R2aju}.\n",
    "\n",
    "$$\n",
    "\\begin{equation}\n",
    "    R^2 = \\frac{\\sum _{i=1} ^n \\left(Y_i - \\bar{Y}_{exp} \\right)^2 - \\sum _{i=1} ^n \\left(Y_i - Y_{cal _i} \\right)^2}{\\sum _{i=1} ^n \\left(Y_i - \\bar{Y}_{exp} \\right)^2 }\n",
    "    \\label{R2}\n",
    "    \\tag{4}\n",
    "\\end{equation}\n",
    "$$\n",
    "\n",
    "$$\n",
    "\\begin{equation}\n",
    "    R^2 _{ajus} = \\frac{\\sum _{i=1} ^n \\left(Y_i - \\bar{Y}_{exp} \\right)^2/GL_{exp} - \\sum _{i=1} ^n \\left(Y_i - Y_{cal _i} \\right)^2 /GL_{cal}}{\\sum _{i=1} ^n \\left(Y_i - \\bar{Y}_{exp} \\right)^2 /GL_{exp}}\n",
    "    \\label{R2aju}\n",
    "    \\tag{5}\n",
    "\\end{equation}\n",
    "$$"
   ]
  },
  {
   "cell_type": "markdown",
   "metadata": {
    "slideshow": {
     "slide_type": "subslide"
    }
   },
   "source": [
    "Where: $Y_i$ is the experimental response variable of $i$, $n$ is the total number of experiments, $\\bar{Y}_{exp}$ correspond to the mean value of all the experimental response variables, $Y_{cal_i}$ is the model response for the conditions given by $i$, $GL_{exp}$ is the number of freedom degrees of the experiment and $GL_{cal}$ is the number of freedom degrees of the model (see Equations \\ref{GLexp} and \\ref{GLcal}).\n",
    "\n",
    "$$\n",
    "\\begin{equation}\n",
    "    GL_{exp} = n-1\n",
    "    \\label{GLexp}\n",
    "    \\tag{6}\n",
    "\\end{equation}\n",
    "$$\n",
    "\n",
    "$$\n",
    "\\begin{equation}\n",
    "    GL_{cal} = n-m-1\n",
    "    \\label{GLcal}\n",
    "    \\tag{7}\n",
    "\\end{equation}\n",
    "$$\n"
   ]
  },
  {
   "cell_type": "markdown",
   "metadata": {
    "slideshow": {
     "slide_type": "slide"
    }
   },
   "source": [
    "### Initial Models\n",
    "\n",
    "<br>\n",
    "\n",
    "<div align=\"justify\">\n",
    "    The initial models correspond to all the posible combinations of the variables selected by the <i>Pareto Chart</i>, in the section \"Analysis of Variance\".\n",
    "</div>"
   ]
  },
  {
   "cell_type": "code",
   "execution_count": null,
   "metadata": {},
   "outputs": [],
   "source": [
    "from App.Modelos.Planteamiento import ModelosIniciales, ModeloFinal\n",
    "from App.Modelos.Respuesta import *\n",
    "nombre_bd = 'base'\n",
    "P = ModelosIniciales(Data_Plant, NormDist, Efecto, nombre_bd)\n",
    "Iniciales = P.Mejores\n",
    "Mejor = P.Mejor\n",
    "%store nombre_bd"
   ]
  },
  {
   "cell_type": "code",
   "execution_count": null,
   "metadata": {
    "slideshow": {
     "slide_type": "subslide"
    }
   },
   "outputs": [],
   "source": [
    "for key in Iniciales:\n",
    "    print('Modelo ' + str(key) + ':')\n",
    "    Models(Iniciales[key])"
   ]
  },
  {
   "cell_type": "markdown",
   "metadata": {
    "slideshow": {
     "slide_type": "slide"
    }
   },
   "source": [
    "#### Best initial Model\n",
    "\n",
    "The base model selected is:"
   ]
  },
  {
   "cell_type": "code",
   "execution_count": null,
   "metadata": {},
   "outputs": [],
   "source": [
    "Models(Mejor)"
   ]
  },
  {
   "cell_type": "markdown",
   "metadata": {
    "slideshow": {
     "slide_type": "slide"
    }
   },
   "source": [
    "## __Final Model__\n",
    "\n",
    "The base model correspond to the best model with exponent 1. Now, we are going to evaluate combinations with different exponents. The selected criteria $R ^2 _{ajus}$ is given manually."
   ]
  },
  {
   "cell_type": "code",
   "execution_count": null,
   "metadata": {
    "slideshow": {
     "slide_type": "-"
    }
   },
   "outputs": [],
   "source": [
    "#Ecuación a evaluar\n",
    "Porcentaje = 1.1       #Recomendable: 0.85 - Visualizar < 1.0\n",
    "Eq = Mejor['Ecuación']\n",
    "Eq = ('C', 'A', 'AB', 'ABC')\n",
    "Final = ModeloFinal(Eq, NormDist, ref = 0.95, Y = Data_Plant['Y'],\\\n",
    "                    maximo=2, db='db', Porcentaje=Porcentaje)"
   ]
  },
  {
   "cell_type": "code",
   "execution_count": null,
   "metadata": {
    "slideshow": {
     "slide_type": "subslide"
    }
   },
   "outputs": [],
   "source": [
    "#¿Quieres seleccionar el mejor modelo inicial?\n",
    "Modelo = Mejor\n",
    "%store Modelo"
   ]
  },
  {
   "cell_type": "code",
   "execution_count": null,
   "metadata": {
    "scrolled": true,
    "slideshow": {
     "slide_type": "subslide"
    }
   },
   "outputs": [],
   "source": [
    "Modelo = Final.Ans\n",
    "Models(Modelo)\n",
    "%store Modelo"
   ]
  },
  {
   "cell_type": "markdown",
   "metadata": {
    "slideshow": {
     "slide_type": "slide"
    }
   },
   "source": [
    "### Graphic Results\n",
    "\n",
    "<br>\n",
    "\n",
    "<div align = \"justify\">\n",
    "    The graphic results (Y vs Ycal and the Residue) can be appreciated next.\n",
    "</div>"
   ]
  },
  {
   "cell_type": "code",
   "execution_count": null,
   "metadata": {},
   "outputs": [],
   "source": [
    "from App.Modelos.Resultados import *\n",
    "Ys(Modelo, Data_Plant['Y'])"
   ]
  },
  {
   "cell_type": "code",
   "execution_count": null,
   "metadata": {
    "slideshow": {
     "slide_type": "subslide"
    }
   },
   "outputs": [],
   "source": [
    "Residuo(Modelo, Data_Plant['Y'])"
   ]
  },
  {
   "cell_type": "code",
   "execution_count": null,
   "metadata": {
    "slideshow": {
     "slide_type": "subslide"
    }
   },
   "outputs": [],
   "source": [
    "#Para ejemplo 1\n",
    "limits = {\n",
    "    'A':{\n",
    "        '-1':-1,\n",
    "        '1':1\n",
    "    },\n",
    "    'B':{\n",
    "        '-1':1,\n",
    "        '1':-1\n",
    "    },\n",
    "    'C':{\n",
    "        '-1':-1,\n",
    "        '1':1\n",
    "    }\n",
    "}\n",
    "\n",
    "SuperficieRespuesta(Modelo, limits)"
   ]
  },
  {
   "cell_type": "code",
   "execution_count": null,
   "metadata": {},
   "outputs": [],
   "source": [
    "from IPython.display import display, HTML\n",
    "text = \"<a href='validation.ipynb'>Click</a> here to go to the <i>model validation</i> page.\"\n",
    "display(HTML(text))"
   ]
  }
 ],
 "metadata": {
  "kernelspec": {
   "display_name": "Python 3",
   "language": "python",
   "name": "python3"
  },
  "language_info": {
   "codemirror_mode": {
    "name": "ipython",
    "version": 3
   },
   "file_extension": ".py",
   "mimetype": "text/x-python",
   "name": "python",
   "nbconvert_exporter": "python",
   "pygments_lexer": "ipython3",
   "version": "3.8.5"
  }
 },
 "nbformat": 4,
 "nbformat_minor": 4
}
