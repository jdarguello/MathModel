{
 "cells": [
  {
   "cell_type": "markdown",
   "metadata": {
    "slideshow": {
     "slide_type": "slide"
    }
   },
   "source": [
    "# __Mathematical Model__\n",
    "\n",
    "<br>\n",
    "\n",
    "<div align=\"justify\">\n",
    "    The mathematical model approach requires an analysis process of the variables to know which one has a bigger influence. We start by importing the experimental data of the problem to solve, then we make an statistical study through a normal distribution graph and a Pareto chart. Finally, we evaluate different mathematical models and choose the one that adapts best.\n",
    "</div>"
   ]
  },
  {
   "cell_type": "code",
   "execution_count": 1,
   "metadata": {},
   "outputs": [],
   "source": [
    "%store -r Datos\n",
    "%store -r current_dir\n",
    "import sys\n",
    "sys.path.insert(0, current_dir)"
   ]
  },
  {
   "cell_type": "markdown",
   "metadata": {
    "slideshow": {
     "slide_type": "slide"
    }
   },
   "source": [
    "## Stability\n",
    "\n",
    "<br>\n",
    "\n",
    "<div align=\"justify\">\n",
    "    First, it is important to define the stability of the experiment.\n",
    "</div>"
   ]
  },
  {
   "cell_type": "code",
   "execution_count": 2,
   "metadata": {},
   "outputs": [
    {
     "name": "stdout",
     "output_type": "stream",
     "text": [
      "NO hay réplicas en el centro del cubo experimental\n",
      "Stored 'Estab' (dict)\n"
     ]
    },
    {
     "data": {
      "text/plain": [
       "{}"
      ]
     },
     "execution_count": 2,
     "metadata": {},
     "output_type": "execute_result"
    }
   ],
   "source": [
    "from App.Pretratamiento.Estabilidad import Est\n",
    "Estabilidad = Est(Datos)\n",
    "\n",
    "Estab = Estabilidad()\n",
    "%store Estab\n",
    "Estab"
   ]
  },
  {
   "cell_type": "markdown",
   "metadata": {},
   "source": [
    "The experimental cube (for 2 and 3 variables experiment only) can be seen by executing the next block of code."
   ]
  },
  {
   "cell_type": "code",
   "execution_count": 4,
   "metadata": {},
   "outputs": [
    {
     "name": "stdout",
     "output_type": "stream",
     "text": [
      "Bigger than 3D\n"
     ]
    },
    {
     "data": {
      "text/plain": [
       "<App.Pretratamiento.Cube.ExpCube at 0xa5c4b70>"
      ]
     },
     "execution_count": 4,
     "metadata": {},
     "output_type": "execute_result"
    }
   ],
   "source": [
    "%matplotlib inline\n",
    "from App.Pretratamiento.Cube import *\n",
    "ExpCube(Datos)"
   ]
  },
  {
   "cell_type": "markdown",
   "metadata": {
    "slideshow": {
     "slide_type": "subslide"
    }
   },
   "source": [
    "<div align = \"justify\">\n",
    "Como se muestra en el esquema, los datos fuera, o por dentro, de la superficie del cubo experimental, se realiza la partición de datos para \"Planteamiento\" y \"Validación\".\n",
    "</div>\n",
    "\n",
    "<br>\n",
    "\n",
    "<div align = \"justify\">\n",
    "    Los datos para el <strong>plantemiento</strong> de los modelos matemáticos corresponden a los que se encuentran en la superficie del cubo (filas compuestas <i>únicamente</i> por: -1, 0 o 1); mientras que los datos de <strong>validación</strong> corresponden a los demás.\n",
    "</div>\n",
    "\n",
    "<br>\n",
    "\n",
    "De maner resumida:\n",
    "\n",
    "$$\n",
    "\\begin{equation}\n",
    "  Plant=\\left\\{\n",
    "    \\begin{array}{@{} l c @{}}\n",
    "      1 & \\text{Nivel superior} \\\\\n",
    "      0 & \\text{Centro del cubo}\\\\\n",
    "      -1 & \\text{Nivel inferior}\n",
    "    \\end{array}\\right.\n",
    "\\end{equation}\n",
    "$$\n",
    "\n",
    "\n",
    "Para este caso particular..."
   ]
  },
  {
   "cell_type": "code",
   "execution_count": null,
   "metadata": {
    "slideshow": {
     "slide_type": "subslide"
    }
   },
   "outputs": [],
   "source": [
    "Data_Plant = Estabilidad.Plant\n",
    "Data_Val = Estabilidad.Val\n",
    "\n",
    "%store Data_Plant\n",
    "%store Data_Val\n",
    "\n",
    "Data_Plant = Datos"
   ]
  },
  {
   "cell_type": "markdown",
   "metadata": {
    "slideshow": {
     "slide_type": "slide"
    }
   },
   "source": [
    "## Análisis de la varianza\n",
    "\n",
    "<br>\n",
    "\n",
    "<div align=\"justify\">\n",
    "    A continuación, se puede apreciar la variación entre los datos experimentales a partir de una gráfica de distribución normal y un diagrama de pareto.\n",
    "</div>"
   ]
  },
  {
   "cell_type": "code",
   "execution_count": null,
   "metadata": {},
   "outputs": [],
   "source": [
    "#Para jupyter notebook -> %matplotlib notebook\n",
    "#Para jupyter lab -> %matplotlib inline\n",
    "%matplotlib inline\n",
    "from App.Pretratamiento.ANOVA import NormalGraph, Pareto\n",
    "NormDist = NormalGraph(Data_Plant)()\n",
    "%store NormDist"
   ]
  },
  {
   "cell_type": "code",
   "execution_count": null,
   "metadata": {
    "slideshow": {
     "slide_type": "subslide"
    }
   },
   "outputs": [],
   "source": [
    "%matplotlib inline\n",
    "#Verdadero = True    Falso = False\n",
    "P = Pareto(Data_Plant, porcentaje = 95, grid=True)\n",
    "Efecto = P.ef\n",
    "print('Variables de mayor efecto:', Efecto)"
   ]
  },
  {
   "cell_type": "markdown",
   "metadata": {
    "slideshow": {
     "slide_type": "slide"
    }
   },
   "source": [
    "## __Modelos Matemáticos__\n",
    "\n",
    "<br>\n",
    "\n",
    "<div align=\"justify\">\n",
    "    El análisis de la varianza nos ayuda a entender cuáles son las variables con mayor efecto dentro del fenómeno experimental estudiado. En pocas palabras, permite identificar un punto de partida para el inicio del proceso iterativo. Gracias a la tecnología, es posible evaluar cientos (y puede que miles) de modelos matemáticos en cuestión de segundos!\n",
    "</div>\n",
    "\n",
    "<br>\n",
    "\n",
    "<div align=\"justify\">\n",
    "    Pero antes de pensar en plantear múltiples modelos de manera simultánea, concentrémonos en plantear el primero. \n",
    "</div>"
   ]
  },
  {
   "cell_type": "markdown",
   "metadata": {
    "slideshow": {
     "slide_type": "slide"
    }
   },
   "source": [
    "### Planteamiento\n",
    "\n",
    "<br> \n",
    "\n",
    "<div align=\"justify\">\n",
    "    El modelo matemático general planteado es del orden:\n",
    "</div>\n",
    "\n",
    "$$\n",
    "\\begin{equation}\n",
    "    Y = b X\n",
    "    \\label{General}\n",
    "    \\tag{1}\n",
    "\\end{equation}\n",
    "$$\n",
    "\n",
    "Donde $Y$ corresponde a la respuesta, $b$ a las constantes y $X$ a las variables.\n",
    "\n",
    "Durante la práctica experimental, obtuvimos diversas variables de respuesta $\\left( Y_{exp} \\right)$, conocemos cuáles son las variables $X$, pero desconocemos el valor de las constantes, además del comportamiento propio del modelo que permite apreciar la solución \"exacta\" (experimental). Para calcular este valor, se desarrolla un modelo matemático que puede ser del tipo mostrado en la Ecuación \\ref{Desglosada}."
   ]
  },
  {
   "cell_type": "markdown",
   "metadata": {
    "slideshow": {
     "slide_type": "subslide"
    }
   },
   "source": [
    "$$\n",
    "\\begin{equation}\n",
    "    Y_{cal} = B_0 + B_1 X_1 + B_2 X_1 X_2 + B_3 X_3 ^2 + \\dots\n",
    "    \\label{Desglosada}\n",
    "    \\tag{2}\n",
    "\\end{equation}\n",
    "$$\n",
    "\n",
    "\n",
    "En términos matriciales, la Ecuación \\ref{Desglosada} es:\n",
    "\n",
    "$$\n",
    "\\begin{equation}\n",
    "    b = \\left( X^T X \\right) ^{-1} Y_{exp}\n",
    "    \\label{Const}\n",
    "    \\tag{3}\n",
    "\\end{equation}\n",
    "$$"
   ]
  },
  {
   "cell_type": "markdown",
   "metadata": {
    "slideshow": {
     "slide_type": "slide"
    }
   },
   "source": [
    "### Error inherente\n",
    "\n",
    "El modelo planteado acarrea un error inherente, el cual es estimado a partir del cálculo de los coeficientes de determinación $\\left( R^2 \\, y \\, R^2 _{ajus} \\right)$. Estos coeficientes se calculan a partir de las Ecuaciones \\ref{R2} y \\ref{R2aju}.\n",
    "\n",
    "$$\n",
    "\\begin{equation}\n",
    "    R^2 = \\frac{\\sum _{i=1} ^n \\left(Y_i - \\bar{Y}_{exp} \\right)^2 - \\sum _{i=1} ^n \\left(Y_i - Y_{cal _i} \\right)^2}{\\sum _{i=1} ^n \\left(Y_i - \\bar{Y}_{exp} \\right)^2 }\n",
    "    \\label{R2}\n",
    "    \\tag{4}\n",
    "\\end{equation}\n",
    "$$\n",
    "\n",
    "$$\n",
    "\\begin{equation}\n",
    "    R^2 _{ajus} = \\frac{\\sum _{i=1} ^n \\left(Y_i - \\bar{Y}_{exp} \\right)^2/GL_{exp} - \\sum _{i=1} ^n \\left(Y_i - Y_{cal _i} \\right)^2 /GL_{cal}}{\\sum _{i=1} ^n \\left(Y_i - \\bar{Y}_{exp} \\right)^2 /GL_{exp}}\n",
    "    \\label{R2aju}\n",
    "    \\tag{5}\n",
    "\\end{equation}\n",
    "$$"
   ]
  },
  {
   "cell_type": "markdown",
   "metadata": {
    "slideshow": {
     "slide_type": "subslide"
    }
   },
   "source": [
    "Dónde: $Y_i$ corresponde a la respuesta experimental de la línea $i$ del total del número de experimentos $n$, $\\bar{Y}_{exp}$ corresponde a la media de las respuestas experimentales, $Y_{cal_i}$ es la respuesta calculada por el modelo propuesto para la línea $i$, $GL_{exp}$ corresponde a los grados de libertad experimentales y $GL_{cal}$ a los grados de libertad del modelo.\n",
    "\n",
    "Los grados de libertad se calculan a partir del número de datos $n$ junto con el número de variables $m$, como se muestra a continuación:\n",
    "\n",
    "$$\n",
    "\\begin{equation}\n",
    "    GL_{exp} = n-1\n",
    "    \\label{GLexp}\n",
    "    \\tag{6}\n",
    "\\end{equation}\n",
    "$$\n",
    "\n",
    "$$\n",
    "\\begin{equation}\n",
    "    GL_{cal} = n-m-1\n",
    "    \\label{GLcal}\n",
    "    \\tag{7}\n",
    "\\end{equation}\n",
    "$$\n"
   ]
  },
  {
   "cell_type": "markdown",
   "metadata": {
    "slideshow": {
     "slide_type": "slide"
    }
   },
   "source": [
    "### Modelos Iniciales\n",
    "\n",
    "<br>\n",
    "\n",
    "<div align=\"justify\">\n",
    "    Los modelos iniciales evaluados corresponden a las combinaciones posibles de las variables seleccionadas en la sección <i>\"Análisis de la varianza\"</i>.\n",
    "</div>"
   ]
  },
  {
   "cell_type": "code",
   "execution_count": null,
   "metadata": {},
   "outputs": [],
   "source": [
    "from App.Modelos.Planteamiento import ModelosIniciales, ModeloFinal\n",
    "from App.Modelos.Respuesta import *\n",
    "nombre_bd = 'base'\n",
    "P = ModelosIniciales(Data_Plant, NormDist, Efecto, nombre_bd)\n",
    "Iniciales = P.Mejores\n",
    "Mejor = P.Mejor\n",
    "%store nombre_bd"
   ]
  },
  {
   "cell_type": "code",
   "execution_count": null,
   "metadata": {
    "slideshow": {
     "slide_type": "subslide"
    }
   },
   "outputs": [],
   "source": [
    "for key in Iniciales:\n",
    "    print('Modelo ' + str(key) + ':')\n",
    "    Models(Iniciales[key])"
   ]
  },
  {
   "cell_type": "markdown",
   "metadata": {
    "slideshow": {
     "slide_type": "slide"
    }
   },
   "source": [
    "#### Mejor modelo Inicial\n",
    "\n",
    "El modelo base seleccionado es:"
   ]
  },
  {
   "cell_type": "code",
   "execution_count": null,
   "metadata": {},
   "outputs": [],
   "source": [
    "Models(Mejor)"
   ]
  },
  {
   "cell_type": "markdown",
   "metadata": {
    "slideshow": {
     "slide_type": "slide"
    }
   },
   "source": [
    "## __Modelo Final__\n",
    "\n",
    "<br>\n",
    "\n",
    "\n",
    "El modelo base corresponde al mejor modelo seleccionado con exponente a la 1. Ahora, se evaluará la misma combinación con diferentes exponentes. El criterio de selección es el mayor $R ^2 _{ajus}$ posible. Se trata de un proceso iterativo en el que se evalúa la tendencia del criterio, para prever la mejor combinación de exponentes que permita seleccionar el modelo matemático final."
   ]
  },
  {
   "cell_type": "code",
   "execution_count": null,
   "metadata": {
    "slideshow": {
     "slide_type": "-"
    }
   },
   "outputs": [],
   "source": [
    "#Ecuación a evaluar\n",
    "Porcentaje = 1.1       #Recomendable: 0.85 - Visualizar < 1.0\n",
    "Eq = Mejor['Ecuación']\n",
    "Eq = ('C', 'A', 'AB', 'ABC')\n",
    "Final = ModeloFinal(Eq, NormDist, ref = 0.95, Y = Data_Plant['Y'],\\\n",
    "                    maximo=2, db='db', Porcentaje=Porcentaje)"
   ]
  },
  {
   "cell_type": "code",
   "execution_count": null,
   "metadata": {
    "slideshow": {
     "slide_type": "subslide"
    }
   },
   "outputs": [],
   "source": [
    "#¿Quieres seleccionar el mejor modelo inicial?\n",
    "Modelo = Mejor\n",
    "%store Modelo"
   ]
  },
  {
   "cell_type": "code",
   "execution_count": null,
   "metadata": {
    "scrolled": true,
    "slideshow": {
     "slide_type": "subslide"
    }
   },
   "outputs": [],
   "source": [
    "Modelo = Final.Ans\n",
    "Models(Modelo)\n",
    "%store Modelo"
   ]
  },
  {
   "cell_type": "markdown",
   "metadata": {
    "slideshow": {
     "slide_type": "slide"
    }
   },
   "source": [
    "### Resultados Gráficos\n",
    "\n",
    "<br>\n",
    "\n",
    "<div align = \"justify\">\n",
    "    Los resultados gráficos (Y vs Ycal y Residuo) se pueden apreciar a continuación.\n",
    "</div>"
   ]
  },
  {
   "cell_type": "code",
   "execution_count": null,
   "metadata": {},
   "outputs": [],
   "source": [
    "from App.Modelos.Resultados import *\n",
    "Ys(Modelo, Data_Plant['Y'])"
   ]
  },
  {
   "cell_type": "code",
   "execution_count": null,
   "metadata": {
    "slideshow": {
     "slide_type": "subslide"
    }
   },
   "outputs": [],
   "source": [
    "Residuo(Modelo, Data_Plant['Y'])"
   ]
  },
  {
   "cell_type": "code",
   "execution_count": null,
   "metadata": {
    "slideshow": {
     "slide_type": "subslide"
    }
   },
   "outputs": [],
   "source": [
    "#Para ejemplo 1\n",
    "limits = {\n",
    "    'A':{\n",
    "        '-1':-1,\n",
    "        '1':1\n",
    "    },\n",
    "    'B':{\n",
    "        '-1':1,\n",
    "        '1':-1\n",
    "    },\n",
    "    'C':{\n",
    "        '-1':-1,\n",
    "        '1':1\n",
    "    }\n",
    "}\n",
    "\n",
    "SuperficieRespuesta(Modelo, limits)"
   ]
  },
  {
   "cell_type": "code",
   "execution_count": null,
   "metadata": {},
   "outputs": [],
   "source": [
    "import ipywidgets as widgets\n",
    "import subprocess\n",
    "button = widgets.Button(description='Validación')\n",
    "out = widgets.Output()\n",
    "def on_button_clicked(b):\n",
    "    with out:\n",
    "        subprocess.run(\"jupyter lab validation.ipynb\")\n",
    "\n",
    "button.on_click(on_button_clicked)\n",
    "widgets.VBox([button, out])"
   ]
  }
 ],
 "metadata": {
  "kernelspec": {
   "display_name": "Python 3",
   "language": "python",
   "name": "python3"
  },
  "language_info": {
   "codemirror_mode": {
    "name": "ipython",
    "version": 3
   },
   "file_extension": ".py",
   "mimetype": "text/x-python",
   "name": "python",
   "nbconvert_exporter": "python",
   "pygments_lexer": "ipython3",
   "version": "3.7.4"
  }
 },
 "nbformat": 4,
 "nbformat_minor": 4
}
