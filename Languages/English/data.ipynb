{
 "cells": [
  {
   "cell_type": "markdown",
   "metadata": {},
   "source": [
    "# _Experimental Data_\n",
    "\n",
    "<br>\n",
    "\n",
    "<div align=\"justify\">\n",
    "    Experimental data define both the number of variables the mathematical model will have and the quantity of models that could be evaluated.\n",
    "</div>\n",
    "\n",
    "<br>\n",
    "\n",
    "We start importing the experimental matrix..."
   ]
  },
  {
   "cell_type": "code",
   "execution_count": 1,
   "metadata": {},
   "outputs": [
    {
     "name": "stdout",
     "output_type": "stream",
     "text": [
      "Stored 'current_dir' (str)\n",
      "Stored 'language' (str)\n"
     ]
    }
   ],
   "source": [
    "import sys\n",
    "import dir\n",
    "current_dir, language = dir.Ref()()\n",
    "sys.path.insert(0, current_dir)\n",
    "%store current_dir\n",
    "%store language"
   ]
  },
  {
   "cell_type": "code",
   "execution_count": 2,
   "metadata": {},
   "outputs": [
    {
     "name": "stdout",
     "output_type": "stream",
     "text": [
      "Data/\n",
      "    1.txt\n",
      "    2.txt\n",
      "    Ejemplo.txt\n"
     ]
    },
    {
     "data": {
      "text/plain": [
       "<App.DirTree.list_files at 0x60c94d0>"
      ]
     },
     "execution_count": 2,
     "metadata": {},
     "output_type": "execute_result"
    }
   ],
   "source": [
    "from App.DirTree import list_files\n",
    "import os\n",
    "list_files(current_dir + '\\App\\DataBase\\Data')"
   ]
  },
  {
   "cell_type": "code",
   "execution_count": 2,
   "metadata": {},
   "outputs": [
    {
     "name": "stdout",
     "output_type": "stream",
     "text": [
      "A\tB\tC\tY\n",
      "-1\t-1\t-1\t6,073\n",
      "1\t-1\t-1\t2,447\n",
      "-1\t1\t-1\t1,559\n",
      "1\t1\t-1\t5,745\n",
      "-1\t-1\t1\t7,799\n",
      "1\t-1\t1\t3,667\n",
      "-1\t1\t1\t3,863\n",
      "1\t1\t1\t8,201\n",
      "0\t0\t2\t5,777\n",
      "0\t0\t-2\t0,832\n",
      "0\t2\t0\t3,267\n",
      "0\t-2\t0\t2,705\n",
      "2\t0\t0\t14,853\n",
      "-2\t0\t0\t9,350\n",
      "0\t1,5\t0\t3,129\n",
      "0\t-1,5\t0\t2,973\n",
      "1,5\t0\t0\t8,642\n",
      "-1,5\t0\t0\t6,511\n",
      "0\t0\t1,5\t4,689\n",
      "0\t0\t-1,5\t1,418\n",
      "1\t1\t0\t9,135\n",
      "-1\t-1\t0\t0,016\n",
      "0\t0\t0\t3,164\n",
      "0\t0\t0\t2,341\n",
      "0\t0\t0\t3,150\n",
      "0\t0\t0\t2,789\n",
      "0\t0\t0\t3,234\n",
      "1\t0\t1\t6,313\n",
      "-1\t0\t-1\t4,354\n",
      "0\t1\t1\t3,671\n",
      "0\t-1\t-1\t0,125\n",
      "\n",
      "Stored 'archivo' (str)\n"
     ]
    }
   ],
   "source": [
    "archivo = '1'\n",
    "path_file = current_dir + '\\App\\DataBase\\Data\\\\' + archivo + '.txt'\n",
    "with open(path_file, encoding='latin-1') as file:\n",
    "    info = file.read()\n",
    "print(info)\n",
    "%store archivo"
   ]
  },
  {
   "cell_type": "markdown",
   "metadata": {},
   "source": [
    "<div align=\"justify\">\n",
    "    It is evident that we can see the experimental data registered in the data base, but we can not directly dispose of this information. We need to convert it to an interpretable variable for the system.\n",
    "</div>"
   ]
  },
  {
   "cell_type": "code",
   "execution_count": 3,
   "metadata": {},
   "outputs": [
    {
     "name": "stdout",
     "output_type": "stream",
     "text": [
      "Stored 'Datos' (dict)\n"
     ]
    }
   ],
   "source": [
    "from App.Interprete import Data\n",
    "Datos = Data(current_dir, archivo)()\n",
    "%store Datos"
   ]
  },
  {
   "cell_type": "markdown",
   "metadata": {},
   "source": [
    "Por ejemplo..."
   ]
  },
  {
   "cell_type": "code",
   "execution_count": null,
   "metadata": {},
   "outputs": [],
   "source": [
    "Datos['Y']"
   ]
  },
  {
   "cell_type": "markdown",
   "metadata": {},
   "source": [
    "Press the button to continue to the \"Mathematical Model\" section."
   ]
  },
  {
   "cell_type": "code",
   "execution_count": 4,
   "metadata": {},
   "outputs": [
    {
     "data": {
      "application/vnd.jupyter.widget-view+json": {
       "model_id": "adca586e22244576af9c22470af17a12",
       "version_major": 2,
       "version_minor": 0
      },
      "text/plain": [
       "VBox(children=(Button(description='Mathematical Model', style=ButtonStyle()), Output()))"
      ]
     },
     "metadata": {},
     "output_type": "display_data"
    }
   ],
   "source": [
    "import ipywidgets as widgets\n",
    "import subprocess\n",
    "button = widgets.Button(description='Mathematical Model')\n",
    "out = widgets.Output()\n",
    "def on_button_clicked(b):\n",
    "    with out:\n",
    "        subprocess.run(\"jupyter lab Post/Planteamiento.ipynb\")\n",
    "\n",
    "button.on_click(on_button_clicked)\n",
    "widgets.VBox([button, out])"
   ]
  }
 ],
 "metadata": {
  "kernelspec": {
   "display_name": "Python 3",
   "language": "python",
   "name": "python3"
  },
  "language_info": {
   "codemirror_mode": {
    "name": "ipython",
    "version": 3
   },
   "file_extension": ".py",
   "mimetype": "text/x-python",
   "name": "python",
   "nbconvert_exporter": "python",
   "pygments_lexer": "ipython3",
   "version": "3.7.4"
  }
 },
 "nbformat": 4,
 "nbformat_minor": 4
}
