{
 "cells": [
  {
   "cell_type": "markdown",
   "metadata": {},
   "source": [
    "# _Experimental Data_\n",
    "\n",
    "<br>\n",
    "\n",
    "<div align=\"justify\">\n",
    "    Experimental data define both the number of variables the mathematical model will have and the quantity of models that could be evaluated.\n",
    "</div>\n",
    "\n",
    "<br>\n",
    "\n",
    "We start importing the experimental matrix..."
   ]
  },
  {
   "cell_type": "code",
   "execution_count": null,
   "metadata": {},
   "outputs": [],
   "source": [
    "import sys\n",
    "import dir\n",
    "current_dir, language = dir.Ref()()\n",
    "sys.path.insert(0, current_dir)\n",
    "%store current_dir\n",
    "%store language"
   ]
  },
  {
   "cell_type": "code",
   "execution_count": null,
   "metadata": {},
   "outputs": [],
   "source": [
    "from App.DirTree import list_files\n",
    "import os\n",
    "list_files(current_dir + '\\App\\DataBase\\Data')"
   ]
  },
  {
   "cell_type": "code",
   "execution_count": null,
   "metadata": {},
   "outputs": [],
   "source": [
    "archivo = '1'\n",
    "try:\n",
    "    path_file = current_dir + '\\App\\DataBase\\Data\\\\' + archivo + '.txt'\n",
    "    with open(path_file, encoding='latin-1') as file:\n",
    "        info = file.read()\n",
    "except:\n",
    "    path_file = current_dir + '/App/DataBase/Data/' + archivo + '.txt'\n",
    "    with open(path_file, encoding='latin-1') as file:\n",
    "        info = file.read()\n",
    "print(info)\n",
    "%store archivo"
   ]
  },
  {
   "cell_type": "markdown",
   "metadata": {},
   "source": [
    "<div align=\"justify\">\n",
    "    It is evident that we can see the experimental data registered in the data base, but we can not directly dispose of this information. We need to convert it to an interpretable variable for the system.\n",
    "</div>"
   ]
  },
  {
   "cell_type": "code",
   "execution_count": null,
   "metadata": {},
   "outputs": [],
   "source": [
    "from App.Interprete import Data\n",
    "Datos = Data(current_dir, archivo)()\n",
    "%store Datos"
   ]
  },
  {
   "cell_type": "markdown",
   "metadata": {},
   "source": [
    "Por ejemplo..."
   ]
  },
  {
   "cell_type": "code",
   "execution_count": null,
   "metadata": {},
   "outputs": [],
   "source": [
    "Datos['Y']"
   ]
  },
  {
   "cell_type": "markdown",
   "metadata": {},
   "source": [
    "Press the button to continue to the \"Mathematical Model\" section."
   ]
  },
  {
   "cell_type": "code",
   "execution_count": null,
   "metadata": {},
   "outputs": [],
   "source": [
    "from IPython.display import display, HTML\n",
    "text = \"<a href='Post/Planteamiento.ipynb'>Click</a> here to go to the <i>model calculation</i> page.\"\n",
    "display(HTML(text))"
   ]
  }
 ],
 "metadata": {
  "kernelspec": {
   "display_name": "Python 3",
   "language": "python",
   "name": "python3"
  },
  "language_info": {
   "codemirror_mode": {
    "name": "ipython",
    "version": 3
   },
   "file_extension": ".py",
   "mimetype": "text/x-python",
   "name": "python",
   "nbconvert_exporter": "python",
   "pygments_lexer": "ipython3",
   "version": "3.6.8"
  }
 },
 "nbformat": 4,
 "nbformat_minor": 4
}
