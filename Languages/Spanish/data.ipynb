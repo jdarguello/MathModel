{
 "cells": [
  {
   "cell_type": "markdown",
   "metadata": {},
   "source": [
    "# __Datos experimentales__\n",
    "\n",
    "<br>\n",
    "\n",
    "<div align=\"justify\">\n",
    "    Los datos experimentales definen tanto el número de variables que compondrán el modelo como de la cantidad de modelos matemáticos posibles.\n",
    "</div>\n",
    "\n",
    "<br>\n",
    "\n",
    "Empezamos importando la matriz experimental..."
   ]
  },
  {
   "cell_type": "code",
   "execution_count": 2,
   "metadata": {},
   "outputs": [
    {
     "name": "stdout",
     "output_type": "stream",
     "text": [
      "Stored 'current_dir' (str)\n"
     ]
    }
   ],
   "source": [
    "import sys\n",
    "import dir\n",
    "current_dir, language = dir.Ref()()\n",
    "#print(current_dir)\n",
    "sys.path.insert(0, current_dir)\n",
    "%store current_dir"
   ]
  },
  {
   "cell_type": "code",
   "execution_count": 3,
   "metadata": {},
   "outputs": [
    {
     "name": "stdout",
     "output_type": "stream",
     "text": [
      "Data/\n",
      "    1.txt\n",
      "    2.txt\n"
     ]
    },
    {
     "data": {
      "text/plain": [
       "<App.DirTree.list_files at 0x5c69670>"
      ]
     },
     "execution_count": 3,
     "metadata": {},
     "output_type": "execute_result"
    }
   ],
   "source": [
    "from App.DirTree import list_files\n",
    "import os\n",
    "list_files(current_dir + '\\App\\DataBase\\Data')"
   ]
  },
  {
   "cell_type": "code",
   "execution_count": 6,
   "metadata": {},
   "outputs": [
    {
     "data": {
      "application/vnd.jupyter.widget-view+json": {
       "model_id": "39a603dad74340d9b3c9d7e4d361a419",
       "version_major": 2,
       "version_minor": 0
      },
      "text/plain": [
       "Button(description='Data Selection', style=ButtonStyle())"
      ]
     },
     "metadata": {},
     "output_type": "display_data"
    }
   ],
   "source": [
    "import ipywidgets as widgets\n",
    "import subprocess\n",
    "button = widgets.Button(description='Data Selection')\n",
    "out = widgets.Output()\n",
    "def on_button_clicked(b):\n",
    "    with out:\n",
    "        print(\"Entra\")\n",
    "button.on_click(on_button_clicked)\n",
    "widgets.VBox([button, out])\n"
   ]
  },
  {
   "cell_type": "code",
   "execution_count": 9,
   "metadata": {},
   "outputs": [
    {
     "data": {
      "application/vnd.jupyter.widget-view+json": {
       "model_id": "fab29f4975764fcea32e17ac2078a3a5",
       "version_major": 2,
       "version_minor": 0
      },
      "text/plain": [
       "VBox(children=(SelectFilesButton(description='Select Files', icon='square-o', style=ButtonStyle(button_color='…"
      ]
     },
     "metadata": {},
     "output_type": "display_data"
    }
   ],
   "source": [
    "import traitlets\n",
    "from ipywidgets import widgets\n",
    "from IPython.display import display\n",
    "from tkinter import Tk, filedialog\n",
    "\n",
    "\n",
    "class SelectFilesButton(widgets.Button):\n",
    "    \"\"\"A file widget that leverages tkinter.filedialog.\"\"\"\n",
    "\n",
    "    def __init__(self):\n",
    "        super(SelectFilesButton, self).__init__()\n",
    "        # Add the selected_files trait\n",
    "        self.add_traits(files=traitlets.traitlets.List())\n",
    "        # Create the button.\n",
    "        self.description = \"Select Files\"\n",
    "        self.icon = \"square-o\"\n",
    "        self.style.button_color = \"orange\"\n",
    "        # Set on click behavior.\n",
    "        self.on_click(self.select_files)\n",
    "\n",
    "    @staticmethod\n",
    "    def select_files(b):\n",
    "        \"\"\"Generate instance of tkinter.filedialog.\n",
    "\n",
    "        Parameters\n",
    "        ----------\n",
    "        b : obj:\n",
    "            An instance of ipywidgets.widgets.Button \n",
    "        \"\"\"\n",
    "        with out:\n",
    "            try:\n",
    "                # Create Tk root\n",
    "                root = Tk()\n",
    "                # Hide the main window\n",
    "                root.withdraw()\n",
    "                # Raise the root to the top of all windows.\n",
    "                root.call('wm', 'attributes', '.', '-topmost', True)\n",
    "                # List of selected fileswill be set to b.value\n",
    "                b.files = filedialog.askopenfilename(multiple=False)\n",
    "\n",
    "                b.description = \"Files Selected\"\n",
    "                b.icon = \"check-square-o\"\n",
    "                b.style.button_color = \"lightgreen\"\n",
    "            except:\n",
    "                pass\n",
    "out = widgets.Output()\n",
    "raw = SelectFilesButton()\n",
    "widgets.VBox([raw, out])"
   ]
  },
  {
   "cell_type": "code",
   "execution_count": 10,
   "metadata": {},
   "outputs": [
    {
     "data": {
      "text/plain": [
       "['C:/Users/juand/Desktop/Maestría/Internet UIS.txt']"
      ]
     },
     "execution_count": 10,
     "metadata": {},
     "output_type": "execute_result"
    }
   ],
   "source": [
    "raw.files"
   ]
  },
  {
   "cell_type": "code",
   "execution_count": null,
   "metadata": {},
   "outputs": [],
   "source": [
    "archivo = '1'\n",
    "try:\n",
    "    path_file = current_dir + '\\App\\DataBase\\Data\\\\' + archivo + '.txt'\n",
    "    with open(path_file, encoding='latin-1') as file:\n",
    "        info = file.read()\n",
    "except:\n",
    "    path_file = current_dir + '/App/DataBase/Data/' + archivo + '.txt'\n",
    "    with open(path_file, encoding='latin-1') as file:\n",
    "        info = file.read()\n",
    "print(info)\n",
    "%store archivo"
   ]
  },
  {
   "cell_type": "markdown",
   "metadata": {},
   "source": [
    "<div align=\"justify\">\n",
    "Es evidente que podemos observar los datos experimentales registrados en la base de datos, pero no podemos disponer de manera directa de esa información. Para ello, debemos convertirlo en una variable interpretable por el sistema.\n",
    "</div>"
   ]
  },
  {
   "cell_type": "code",
   "execution_count": null,
   "metadata": {},
   "outputs": [],
   "source": [
    "from App.Interprete import Data\n",
    "#print(current_dir)\n",
    "Datos = Data(current_dir, archivo, kind=False)()\n",
    "%store Datos"
   ]
  },
  {
   "cell_type": "markdown",
   "metadata": {},
   "source": [
    "Por ejemplo..."
   ]
  },
  {
   "cell_type": "code",
   "execution_count": null,
   "metadata": {},
   "outputs": [],
   "source": [
    "Datos['Y']"
   ]
  },
  {
   "cell_type": "markdown",
   "metadata": {},
   "source": [
    "Presiona el botón para continuar a la etapa de \"Planteamiento del modelo\"."
   ]
  },
  {
   "cell_type": "code",
   "execution_count": null,
   "metadata": {},
   "outputs": [],
   "source": [
    "from IPython.display import display, HTML\n",
    "text = \"Haz click <a href='Post/Planteamiento.ipynb'>aquí</a> para ir a la página de <i>desarrollo del modelo matemático</i>.\"\n",
    "display(HTML(text))"
   ]
  }
 ],
 "metadata": {
  "kernelspec": {
   "display_name": "Python 3",
   "language": "python",
   "name": "python3"
  },
  "language_info": {
   "codemirror_mode": {
    "name": "ipython",
    "version": 3
   },
   "file_extension": ".py",
   "mimetype": "text/x-python",
   "name": "python",
   "nbconvert_exporter": "python",
   "pygments_lexer": "ipython3",
   "version": "3.7.4"
  }
 },
 "nbformat": 4,
 "nbformat_minor": 4
}
