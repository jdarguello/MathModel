{
 "cells": [
  {
   "cell_type": "markdown",
   "metadata": {},
   "source": [
    "# __Datos experimentales__\n",
    "\n",
    "<br>\n",
    "\n",
    "<div align=\"justify\">\n",
    "    Los datos experimentales definen tanto el número de variables que compondrán el modelo como de la cantidad de modelos matemáticos posibles.\n",
    "</div>\n",
    "\n",
    "<br>\n",
    "\n",
    "Empezamos importando la matriz experimental..."
   ]
  },
  {
   "cell_type": "code",
   "execution_count": 2,
   "metadata": {},
   "outputs": [
    {
     "name": "stdout",
     "output_type": "stream",
     "text": [
      "Stored 'current_dir' (str)\n"
     ]
    }
   ],
   "source": [
    "import sys\n",
    "import dir\n",
    "current_dir, language = dir.Ref()()\n",
    "sys.path.insert(0, current_dir)\n",
    "%store current_dir"
   ]
  },
  {
   "cell_type": "code",
   "execution_count": 3,
   "metadata": {},
   "outputs": [
    {
     "name": "stdout",
     "output_type": "stream",
     "text": [
      "Data/\n",
      "    1.txt\n",
      "    2.txt\n",
      "    Ejemplo.txt\n"
     ]
    },
    {
     "data": {
      "text/plain": [
       "<App.DirTree.list_files at 0x5c4aaf0>"
      ]
     },
     "execution_count": 3,
     "metadata": {},
     "output_type": "execute_result"
    }
   ],
   "source": [
    "from App.DirTree import list_files\n",
    "import os\n",
    "list_files(current_dir + '\\App\\DataBase\\Data')"
   ]
  },
  {
   "cell_type": "code",
   "execution_count": null,
   "metadata": {},
   "outputs": [],
   "source": [
    "archivo = '1'\n",
    "path_file = current_dir + '\\App\\DataBase\\Data\\\\' + archivo + '.txt'\n",
    "with open(path_file, encoding='latin-1') as file:\n",
    "    info = file.read()\n",
    "print(info)\n",
    "%store archivo"
   ]
  },
  {
   "cell_type": "markdown",
   "metadata": {},
   "source": [
    "<div align=\"justify\">\n",
    "Es evidente que podemos observar los datos experimentales registrados en la base de datos, pero no podemos disponer de manera directa de esa información. Para ello, debemos convertirlo en una variable interpretable por el sistema.\n",
    "</div>"
   ]
  },
  {
   "cell_type": "code",
   "execution_count": null,
   "metadata": {},
   "outputs": [],
   "source": [
    "from App.Interprete import Data\n",
    "Datos = Data(current_dir, archivo)()\n",
    "%store Datos"
   ]
  },
  {
   "cell_type": "markdown",
   "metadata": {},
   "source": [
    "Por ejemplo..."
   ]
  },
  {
   "cell_type": "code",
   "execution_count": null,
   "metadata": {},
   "outputs": [],
   "source": [
    "Datos['Y']"
   ]
  },
  {
   "cell_type": "markdown",
   "metadata": {},
   "source": [
    "Presiona el botón para continuar a la etapa de \"Planteamiento del modelo\"."
   ]
  },
  {
   "cell_type": "code",
   "execution_count": 1,
   "metadata": {},
   "outputs": [
    {
     "data": {
      "application/vnd.jupyter.widget-view+json": {
       "model_id": "8838400b4d844cdca1bdbae0cd51de52",
       "version_major": 2,
       "version_minor": 0
      },
      "text/plain": [
       "VBox(children=(Button(description='Planteamiento', style=ButtonStyle()), Output()))"
      ]
     },
     "metadata": {},
     "output_type": "display_data"
    }
   ],
   "source": [
    "import ipywidgets as widgets\n",
    "import subprocess\n",
    "button = widgets.Button(description='Planteamiento')\n",
    "out = widgets.Output()\n",
    "def on_button_clicked(b):\n",
    "    with out:\n",
    "        try:\n",
    "            subprocess.run(\"jupyter lab Post/Planteamiento.ipynb\")\n",
    "        except:\n",
    "            subprocess.run(\"jupyter lab 'Post/Planteamiento.ipynb'\")\n",
    "\n",
    "button.on_click(on_button_clicked)\n",
    "widgets.VBox([button, out])"
   ]
  }
 ],
 "metadata": {
  "kernelspec": {
   "display_name": "Python 3",
   "language": "python",
   "name": "python3"
  },
  "language_info": {
   "codemirror_mode": {
    "name": "ipython",
    "version": 3
   },
   "file_extension": ".py",
   "mimetype": "text/x-python",
   "name": "python",
   "nbconvert_exporter": "python",
   "pygments_lexer": "ipython3",
   "version": "3.7.4"
  }
 },
 "nbformat": 4,
 "nbformat_minor": 4
}
