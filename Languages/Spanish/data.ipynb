{
 "cells": [
  {
   "cell_type": "markdown",
   "metadata": {},
   "source": [
    "# Datos experimentales\n",
    "\n",
    "<br>\n",
    "\n",
    "<div align=\"justify\">\n",
    "    Los datos experimentales definen tanto el número de variables que compondrán el modelo como de la cantidad de modelos matemáticos posibles.\n",
    "</div>\n",
    "\n",
    "<br>\n",
    "\n",
    "Empezamos importando y analizando el modelo..."
   ]
  },
  {
   "cell_type": "code",
   "execution_count": 2,
   "metadata": {},
   "outputs": [
    {
     "ename": "ValueError",
     "evalue": "attempted relative import beyond top-level package",
     "output_type": "error",
     "traceback": [
      "\u001b[1;31m---------------------------------------------------------------------------\u001b[0m",
      "\u001b[1;31mValueError\u001b[0m                                Traceback (most recent call last)",
      "\u001b[1;32m<ipython-input-2-7db0e8ab4c7d>\u001b[0m in \u001b[0;36m<module>\u001b[1;34m\u001b[0m\n\u001b[1;32m----> 1\u001b[1;33m \u001b[1;32mfrom\u001b[0m \u001b[1;33m...\u001b[0m\u001b[0mApp\u001b[0m\u001b[1;33m.\u001b[0m\u001b[0mDirTree\u001b[0m \u001b[1;32mimport\u001b[0m \u001b[0mlist_files\u001b[0m\u001b[1;33m\u001b[0m\u001b[1;33m\u001b[0m\u001b[0m\n\u001b[0m\u001b[0;32m      2\u001b[0m \u001b[1;32mimport\u001b[0m \u001b[0mos\u001b[0m\u001b[1;33m\u001b[0m\u001b[1;33m\u001b[0m\u001b[0m\n\u001b[0;32m      3\u001b[0m \u001b[1;33m\u001b[0m\u001b[0m\n\u001b[0;32m      4\u001b[0m \u001b[0mcurrent_dir\u001b[0m \u001b[1;33m=\u001b[0m \u001b[0mos\u001b[0m\u001b[1;33m.\u001b[0m\u001b[0mgetcwd\u001b[0m\u001b[1;33m(\u001b[0m\u001b[1;33m)\u001b[0m\u001b[1;33m\u001b[0m\u001b[1;33m\u001b[0m\u001b[0m\n\u001b[0;32m      5\u001b[0m \u001b[0mlist_files\u001b[0m\u001b[1;33m(\u001b[0m\u001b[0mcurrent_dir\u001b[0m\u001b[1;33m)\u001b[0m\u001b[1;33m\u001b[0m\u001b[1;33m\u001b[0m\u001b[0m\n",
      "\u001b[1;31mValueError\u001b[0m: attempted relative import beyond top-level package"
     ]
    }
   ],
   "source": [
    "from ...App.DirTree import list_files\n",
    "import os\n",
    "\n",
    "current_dir = os.getcwd()\n",
    "list_files(current_dir)"
   ]
  },
  {
   "cell_type": "code",
   "execution_count": 3,
   "metadata": {},
   "outputs": [
    {
     "name": "stdout",
     "output_type": "stream",
     "text": [
      "A\tB\tC\tY\n",
      "-1\t-1\t-1\t6,073\n",
      "1\t-1\t-1\t2,447\n",
      "-1\t1\t-1\t1,559\n",
      "1\t1\t-1\t5,745\n",
      "-1\t-1\t1\t7,799\n",
      "1\t-1\t1\t3,667\n",
      "-1\t1\t1\t3,863\n",
      "1\t1\t1\t8,201\n",
      "0\t0\t2\t5,777\n",
      "0\t0\t-2\t0,832\n",
      "0\t2\t0\t3,267\n",
      "0\t-2\t0\t2,705\n",
      "2\t0\t0\t14,853\n",
      "-2\t0\t0\t9,350\n",
      "0\t1,5\t0\t3,129\n",
      "0\t-1,5\t0\t2,973\n",
      "1,5\t0\t0\t8,642\n",
      "-1,5\t0\t0\t6,511\n",
      "0\t0\t1,5\t4,689\n",
      "0\t0\t-1,5\t1,418\n",
      "1\t1\t0\t9,135\n",
      "-1\t-1\t0\t0,016\n",
      "0\t0\t0\t3,164\n",
      "0\t0\t0\t2,341\n",
      "0\t0\t0\t3,150\n",
      "0\t0\t0\t2,789\n",
      "0\t0\t0\t3,234\n",
      "1\t0\t1\t6,313\n",
      "-1\t0\t-1\t4,354\n",
      "0\t1\t1\t3,671\n",
      "0\t-1\t-1\t0,125\n",
      "\n",
      "Stored 'archivo' (str)\n"
     ]
    }
   ],
   "source": [
    "archivo = '1'\n",
    "path_file = 'App/DataBase/Datos/' + archivo + '.txt'\n",
    "with open(path_file, encoding='latin-1') as file:\n",
    "    info = file.read()\n",
    "print(info)\n",
    "%store archivo"
   ]
  },
  {
   "cell_type": "markdown",
   "metadata": {},
   "source": [
    "<div align=\"justify\">\n",
    "Es evidente que podemos observar los datos experimentales registrados en la base de datos, pero no podemos disponer de manera directa de esa información. Para ello, debemos convertirlo en una variable interpretable por el sistema.\n",
    "</div>"
   ]
  },
  {
   "cell_type": "code",
   "execution_count": 4,
   "metadata": {},
   "outputs": [
    {
     "name": "stdout",
     "output_type": "stream",
     "text": [
      "Stored 'Datos' (dict)\n"
     ]
    }
   ],
   "source": [
    "from App.Interprete import Data\n",
    "Datos = Data(archivo)()\n",
    "%store Datos"
   ]
  },
  {
   "cell_type": "markdown",
   "metadata": {},
   "source": [
    "Por ejemplo..."
   ]
  },
  {
   "cell_type": "code",
   "execution_count": 5,
   "metadata": {},
   "outputs": [
    {
     "data": {
      "text/plain": [
       "[6.073,\n",
       " 2.447,\n",
       " 1.559,\n",
       " 5.745,\n",
       " 7.799,\n",
       " 3.667,\n",
       " 3.863,\n",
       " 8.201,\n",
       " 5.777,\n",
       " 0.832,\n",
       " 3.267,\n",
       " 2.705,\n",
       " 14.853,\n",
       " 9.35,\n",
       " 3.129,\n",
       " 2.973,\n",
       " 8.642,\n",
       " 6.511,\n",
       " 4.689,\n",
       " 1.418,\n",
       " 9.135,\n",
       " 0.016,\n",
       " 3.164,\n",
       " 2.341,\n",
       " 3.15,\n",
       " 2.789,\n",
       " 3.234,\n",
       " 6.313,\n",
       " 4.354,\n",
       " 3.671,\n",
       " 0.125]"
      ]
     },
     "execution_count": 5,
     "metadata": {},
     "output_type": "execute_result"
    }
   ],
   "source": [
    "Datos['Y']"
   ]
  }
 ],
 "metadata": {
  "kernelspec": {
   "display_name": "Python 3",
   "language": "python",
   "name": "python3"
  },
  "language_info": {
   "codemirror_mode": {
    "name": "ipython",
    "version": 3
   },
   "file_extension": ".py",
   "mimetype": "text/x-python",
   "name": "python",
   "nbconvert_exporter": "python",
   "pygments_lexer": "ipython3",
   "version": "3.7.4"
  }
 },
 "nbformat": 4,
 "nbformat_minor": 4
}
