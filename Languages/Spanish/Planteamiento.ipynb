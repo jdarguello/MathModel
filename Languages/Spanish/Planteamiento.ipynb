{
 "cells": [
  {
   "cell_type": "markdown",
   "metadata": {
    "slideshow": {
     "slide_type": "slide"
    }
   },
   "source": [
    "# Planteamiento del modelo\n",
    "\n",
    "<br>\n",
    "\n",
    "<div align=\"justify\">\n",
    "    El planteamiento del modelo matemático requiere de un proceso de análisis de las variables de estudio (¿qué variables presentan una mayor influencia?). Para ello, empezamos por importar los datos del problema experimental, luego realizamos un estudio estadístico mediante una gráfica de distribución normal y diagrama de pareto; y, finalmente, planteamos <i>TODOS</i> los posibles modelos y escogemos el que mejor se adapta al fenómeno de estudio.\n",
    "</div>"
   ]
  },
  {
   "cell_type": "code",
   "execution_count": 1,
   "metadata": {},
   "outputs": [],
   "source": [
    "%store -r Datos"
   ]
  },
  {
   "cell_type": "markdown",
   "metadata": {
    "slideshow": {
     "slide_type": "slide"
    }
   },
   "source": [
    "## Estabilidad\n",
    "\n",
    "<br>\n",
    "\n",
    "<div align=\"justify\">\n",
    "    En primer lugar, es importante determinar la estabilidad del experimento. \n",
    "</div>"
   ]
  },
  {
   "cell_type": "code",
   "execution_count": 2,
   "metadata": {},
   "outputs": [
    {
     "name": "stdout",
     "output_type": "stream",
     "text": [
      "ADVERTENCIA: El coeficiente de variación (CV) está por encima del 10%\n",
      "Stored 'Estab' (dict)\n"
     ]
    },
    {
     "data": {
      "text/plain": [
       "{'Promedio': 2.9356,\n",
       " 'Desvest': 0.33532587135501485,\n",
       " 'CV [%]': 11.422737135679755,\n",
       " 'Varianza': 0.14055429999999994}"
      ]
     },
     "execution_count": 2,
     "metadata": {},
     "output_type": "execute_result"
    }
   ],
   "source": [
    "from App.Pretratamiento.Estabilidad import Est\n",
    "Estabilidad = Est(Datos)\n",
    "\n",
    "Estab = Estabilidad()\n",
    "%store Estab\n",
    "Estab"
   ]
  },
  {
   "cell_type": "markdown",
   "metadata": {
    "slideshow": {
     "slide_type": "subslide"
    }
   },
   "source": [
    "<div align = \"justify\">\n",
    "En caso de que existan datos por fuera, o por dentro, de la superficie del cubo experimental, se realiza la partición de datos para \"Planteamiento\" y \"Validación\".\n",
    "</div>\n",
    "\n",
    "<br>\n",
    "\n",
    "<div align = \"justify\">\n",
    "    Los datos para el <strong>plantemiento</strong> de los modelos matemáticos corresponden a los que se encuentran en la superficie del cubo (filas compuestas <i>únicamente</i> por: -1, 0 o 1); mientras que los datos de <strong>validación</strong> corresponden a los demás.\n",
    "</div>\n",
    "\n",
    "<br>\n",
    "\n",
    "De maner resumida:\n",
    "\n",
    "$$\n",
    "\\begin{equation}\n",
    "  Plant=\\left\\{\n",
    "    \\begin{array}{@{} l c @{}}\n",
    "      1 & \\text{Nivel superior} \\\\\n",
    "      0 & \\text{Centro del cubo}\\\\\n",
    "      -1 & \\text{Nivel inferior}\n",
    "    \\end{array}\\right.\n",
    "\\end{equation}\n",
    "$$\n",
    "\n",
    "$$\n",
    "\\begin{equation}\n",
    "    Val = \\forall x \\left( x \\in \\mathbb{R} \\, \\Lambda \\, x \\neq  -1 , x \\neq 0 , x \\neq 1 \\right) \\, x \\in fila_{datos}\n",
    "\\end{equation}\n",
    "$$\n",
    "\n",
    "Para este caso particular..."
   ]
  },
  {
   "cell_type": "code",
   "execution_count": 3,
   "metadata": {
    "slideshow": {
     "slide_type": "subslide"
    }
   },
   "outputs": [
    {
     "name": "stdout",
     "output_type": "stream",
     "text": [
      "Stored 'Data_Plant' (dict)\n",
      "Stored 'Data_Val' (dict)\n"
     ]
    }
   ],
   "source": [
    "Data_Plant = Estabilidad.Plant\n",
    "Data_Val = Estabilidad.Val\n",
    "\n",
    "%store Data_Plant\n",
    "%store Data_Val\n",
    "\n",
    "Data_Plant = Datos"
   ]
  },
  {
   "cell_type": "markdown",
   "metadata": {
    "slideshow": {
     "slide_type": "slide"
    }
   },
   "source": [
    "## Análisis de la varianza\n",
    "\n",
    "<br>\n",
    "\n",
    "<div align=\"justify\">\n",
    "    A continuación, se puede apreciar la variación entre los datos experimentales a partir de una gráfica de distribución normal y un diagrama de pareto.\n",
    "</div>"
   ]
  },
  {
   "cell_type": "code",
   "execution_count": 5,
   "metadata": {},
   "outputs": [
    {
     "name": "stdout",
     "output_type": "stream",
     "text": [
      "Stored 'NormDist' (dict)\n"
     ]
    },
    {
     "data": {
      "image/png": "[encoded data removed]",
      "text/plain": [
       "<Figure size 432x288 with 1 Axes>"
      ]
     },
     "metadata": {
      "needs_background": "light"
     },
     "output_type": "display_data"
    }
   ],
   "source": [
    "#Para jupyter notebook -> %matplotlib notebook\n",
    "#Para jupyter lab -> %matplotlib inline\n",
    "%matplotlib inline\n",
    "from App.Pretratamiento.ANOVA import NormalGraph, Pareto\n",
    "NormDist = NormalGraph(Data_Plant)()\n",
    "%store NormDist"
   ]
  },
  {
   "cell_type": "code",
   "execution_count": 6,
   "metadata": {
    "slideshow": {
     "slide_type": "subslide"
    }
   },
   "outputs": [
    {
     "data": {
      "image/png": "[encoded data removed]",
      "text/plain": [
       "<Figure size 432x288 with 2 Axes>"
      ]
     },
     "metadata": {},
     "output_type": "display_data"
    },
    {
     "name": "stdout",
     "output_type": "stream",
     "text": [
      "Variables de mayor efecto: ('C', 'A', 'AB', 'B')\n"
     ]
    }
   ],
   "source": [
    "%matplotlib inline\n",
    "#Verdadero = True    Falso = False\n",
    "P = Pareto(Data_Plant, porcentaje = 95, grid=True)\n",
    "Efecto = P.ef\n",
    "print('Variables de mayor efecto:', Efecto)"
   ]
  },
  {
   "cell_type": "markdown",
   "metadata": {
    "slideshow": {
     "slide_type": "slide"
    }
   },
   "source": [
    "## Modelos Matemáticos\n",
    "\n",
    "<br>\n",
    "\n",
    "<div align=\"justify\">\n",
    "    El análisis de la varianza nos ayuda a entender cuáles son las variables con mayor efecto dentro del fenómeno experimental estudiado. En pocas palabras, permite identificar un punto de partida para el inicio del proceso iterativo. Gracias a la tecnología, es posible evaluar cientos (y puede que miles) de modelos matemáticos en cuestión de segundos!\n",
    "</div>\n",
    "\n",
    "<br>\n",
    "\n",
    "<div align=\"justify\">\n",
    "    Pero antes de pensar en plantear múltiples modelos de manera simultánea, concentrémonos en plantear el primero. \n",
    "</div>"
   ]
  },
  {
   "cell_type": "markdown",
   "metadata": {
    "slideshow": {
     "slide_type": "slide"
    }
   },
   "source": [
    "### Planteamiento\n",
    "\n",
    "<br> \n",
    "\n",
    "<div align=\"justify\">\n",
    "    El modelo matemático general planteado es del orden:\n",
    "</div>\n",
    "\n",
    "$$\n",
    "\\begin{equation}\n",
    "    Y = b X\n",
    "    \\label{General}\n",
    "    \\tag{1}\n",
    "\\end{equation}\n",
    "$$\n",
    "\n",
    "Donde $Y$ corresponde a la respuesta, $b$ a las constantes y $X$ a las variables.\n",
    "\n",
    "Durante la práctica experimental, obtuvimos diversas variables de respuesta $\\left( Y_{exp} \\right)$, conocemos cuáles son las variables $X$, pero desconocemos el valor de las constantes, además del comportamiento propio del modelo que permite apreciar la solución \"exacta\" (experimental). Para calcular este valor, se desarrolla un modelo matemático que puede ser del tipo mostrado en la Ecuación \\ref{Desglosada}."
   ]
  },
  {
   "cell_type": "markdown",
   "metadata": {
    "slideshow": {
     "slide_type": "subslide"
    }
   },
   "source": [
    "$$\n",
    "\\begin{equation}\n",
    "    Y_{cal} = B_0 + B_1 X_1 + B_2 X_1 X_2 + B_3 X_3 ^2 + \\dots\n",
    "    \\label{Desglosada}\n",
    "    \\tag{2}\n",
    "\\end{equation}\n",
    "$$\n",
    "\n",
    "\n",
    "En términos matriciales, la Ecuación \\ref{Desglosada} es:\n",
    "\n",
    "$$\n",
    "\\begin{equation}\n",
    "    b = \\left( X^T X \\right) ^{-1} Y_{exp}\n",
    "    \\label{Const}\n",
    "    \\tag{3}\n",
    "\\end{equation}\n",
    "$$"
   ]
  },
  {
   "cell_type": "markdown",
   "metadata": {
    "slideshow": {
     "slide_type": "slide"
    }
   },
   "source": [
    "### Error inherente\n",
    "\n",
    "El modelo planteado acarrea un error inherente, el cual es estimado a partir del cálculo de los coeficientes de determinación $\\left( R^2 \\, y \\, R^2 _{ajus} \\right)$. Estos coeficientes se calculan a partir de las Ecuaciones \\ref{R2} y \\ref{R2aju}.\n",
    "\n",
    "$$\n",
    "\\begin{equation}\n",
    "    R^2 = \\frac{\\sum _{i=1} ^n \\left(Y_i - \\bar{Y}_{exp} \\right)^2 - \\sum _{i=1} ^n \\left(Y_i - Y_{cal _i} \\right)^2}{\\sum _{i=1} ^n \\left(Y_i - \\bar{Y}_{exp} \\right)^2 }\n",
    "    \\label{R2}\n",
    "    \\tag{4}\n",
    "\\end{equation}\n",
    "$$\n",
    "\n",
    "$$\n",
    "\\begin{equation}\n",
    "    R^2 _{ajus} = \\frac{\\sum _{i=1} ^n \\left(Y_i - \\bar{Y}_{exp} \\right)^2/GL_{exp} - \\sum _{i=1} ^n \\left(Y_i - Y_{cal _i} \\right)^2 /GL_{cal}}{\\sum _{i=1} ^n \\left(Y_i - \\bar{Y}_{exp} \\right)^2 /GL_{exp}}\n",
    "    \\label{R2aju}\n",
    "    \\tag{5}\n",
    "\\end{equation}\n",
    "$$"
   ]
  },
  {
   "cell_type": "markdown",
   "metadata": {
    "slideshow": {
     "slide_type": "subslide"
    }
   },
   "source": [
    "Dónde: $Y_i$ corresponde a la respuesta experimental de la línea $i$ del total del número de experimentos $n$, $\\bar{Y}_{exp}$ corresponde a la media de las respuestas experimentales, $Y_{cal_i}$ es la respuesta calculada por el modelo propuesto para la línea $i$, $GL_{exp}$ corresponde a los grados de libertad experimentales y $GL_{cal}$ a los grados de libertad del modelo.\n",
    "\n",
    "Los grados de libertad se calculan a partir del número de datos $n$ junto con el número de variables $m$, como se muestra a continuación:\n",
    "\n",
    "$$\n",
    "\\begin{equation}\n",
    "    GL_{exp} = n-1\n",
    "    \\label{GLexp}\n",
    "    \\tag{6}\n",
    "\\end{equation}\n",
    "$$\n",
    "\n",
    "$$\n",
    "\\begin{equation}\n",
    "    GL_{cal} = n-m-1\n",
    "    \\label{GLcal}\n",
    "    \\tag{7}\n",
    "\\end{equation}\n",
    "$$\n"
   ]
  },
  {
   "cell_type": "markdown",
   "metadata": {
    "slideshow": {
     "slide_type": "slide"
    }
   },
   "source": [
    "### Modelos Iniciales\n",
    "\n",
    "<br>\n",
    "\n",
    "<div align=\"justify\">\n",
    "    Los modelos iniciales evaluados corresponden a las combinaciones posibles de las variables seleccionadas en la sección <i>\"Análisis de la varianza\"</i>.\n",
    "</div>"
   ]
  },
  {
   "cell_type": "code",
   "execution_count": 7,
   "metadata": {},
   "outputs": [
    {
     "name": "stdout",
     "output_type": "stream",
     "text": [
      "Stored 'nombre_bd' (str)\n"
     ]
    }
   ],
   "source": [
    "from App.Modelos.Planteamiento import ModelosIniciales, ModeloFinal\n",
    "from App.Modelos.Respuesta import *\n",
    "nombre_bd = 'base'\n",
    "P = ModelosIniciales(Data_Plant, NormDist, Efecto, nombre_bd)\n",
    "Iniciales = P.Mejores\n",
    "Mejor = P.Mejor\n",
    "%store nombre_bd"
   ]
  },
  {
   "cell_type": "code",
   "execution_count": 8,
   "metadata": {
    "slideshow": {
     "slide_type": "subslide"
    }
   },
   "outputs": [
    {
     "name": "stdout",
     "output_type": "stream",
     "text": [
      "Modelo 1:\n"
     ]
    },
    {
     "data": {
      "text/html": [
       "$Y = \\beta_0 + \\beta _{1}C\\rightarrow \\left[\\beta _{0}, \\beta _{1}\\right] = \\left[4.574, 1.143\\right]$"
      ],
      "text/plain": [
       "<IPython.core.display.HTML object>"
      ]
     },
     "metadata": {},
     "output_type": "display_data"
    },
    {
     "data": {
      "text/html": [
       "$R ^2 _{ajus} = 0.074$"
      ],
      "text/plain": [
       "<IPython.core.display.HTML object>"
      ]
     },
     "metadata": {},
     "output_type": "display_data"
    },
    {
     "name": "stdout",
     "output_type": "stream",
     "text": [
      "Modelo 2:\n"
     ]
    },
    {
     "data": {
      "text/html": [
       "$Y = \\beta_0 + \\beta _{1}A\\rightarrow \\left[\\beta _{0}, \\beta _{1}\\right] = \\left[4.574, 1.063\\right]$"
      ],
      "text/plain": [
       "<IPython.core.display.HTML object>"
      ]
     },
     "metadata": {},
     "output_type": "display_data"
    },
    {
     "data": {
      "text/html": [
       "$R ^2 _{ajus} = 0.059$"
      ],
      "text/plain": [
       "<IPython.core.display.HTML object>"
      ]
     },
     "metadata": {},
     "output_type": "display_data"
    },
    {
     "name": "stdout",
     "output_type": "stream",
     "text": [
      "Modelo 3:\n"
     ]
    },
    {
     "data": {
      "text/html": [
       "$Y = \\beta_0 + \\beta _{1}AB\\rightarrow \\left[\\beta _{0}, \\beta _{1}\\right] = \\left[4.467, 1.65\\right]$"
      ],
      "text/plain": [
       "<IPython.core.display.HTML object>"
      ]
     },
     "metadata": {},
     "output_type": "display_data"
    },
    {
     "data": {
      "text/html": [
       "$R ^2 _{ajus} = 0.057$"
      ],
      "text/plain": [
       "<IPython.core.display.HTML object>"
      ]
     },
     "metadata": {},
     "output_type": "display_data"
    },
    {
     "name": "stdout",
     "output_type": "stream",
     "text": [
      "Modelo 4:\n"
     ]
    },
    {
     "data": {
      "text/html": [
       "$Y = \\beta_0 + \\beta _{1}B\\rightarrow \\left[\\beta _{0}, \\beta _{1}\\right] = \\left[4.574, 0.547\\right]$"
      ],
      "text/plain": [
       "<IPython.core.display.HTML object>"
      ]
     },
     "metadata": {},
     "output_type": "display_data"
    },
    {
     "data": {
      "text/html": [
       "$R ^2 _{ajus} = -0.01$"
      ],
      "text/plain": [
       "<IPython.core.display.HTML object>"
      ]
     },
     "metadata": {},
     "output_type": "display_data"
    },
    {
     "name": "stdout",
     "output_type": "stream",
     "text": [
      "Modelo 5:\n"
     ]
    },
    {
     "data": {
      "text/html": [
       "$Y = \\beta_0 + \\beta _{1}C + \\beta _{2}A\\rightarrow \\left[\\beta _{0}, \\beta _{1}, \\beta _{2}\\right] = \\left[4.574, 1.063, 0.976\\right]$"
      ],
      "text/plain": [
       "<IPython.core.display.HTML object>"
      ]
     },
     "metadata": {},
     "output_type": "display_data"
    },
    {
     "data": {
      "text/html": [
       "$R ^2 _{ajus} = 0.122$"
      ],
      "text/plain": [
       "<IPython.core.display.HTML object>"
      ]
     },
     "metadata": {},
     "output_type": "display_data"
    },
    {
     "name": "stdout",
     "output_type": "stream",
     "text": [
      "Modelo 6:\n"
     ]
    },
    {
     "data": {
      "text/html": [
       "$Y = \\beta_0 + \\beta _{1}C + \\beta _{2}AB\\rightarrow \\left[\\beta _{0}, \\beta _{1}, \\beta _{2}\\right] = \\left[4.467, 1.143, 1.65\\right]$"
      ],
      "text/plain": [
       "<IPython.core.display.HTML object>"
      ]
     },
     "metadata": {},
     "output_type": "display_data"
    },
    {
     "data": {
      "text/html": [
       "$R ^2 _{ajus} = 0.135$"
      ],
      "text/plain": [
       "<IPython.core.display.HTML object>"
      ]
     },
     "metadata": {},
     "output_type": "display_data"
    },
    {
     "name": "stdout",
     "output_type": "stream",
     "text": [
      "Modelo 7:\n"
     ]
    },
    {
     "data": {
      "text/html": [
       "$Y = \\beta_0 + \\beta _{1}C + \\beta _{2}B\\rightarrow \\left[\\beta _{0}, \\beta _{1}, \\beta _{2}\\right] = \\left[4.574, 1.106, 0.457\\right]$"
      ],
      "text/plain": [
       "<IPython.core.display.HTML object>"
      ]
     },
     "metadata": {},
     "output_type": "display_data"
    },
    {
     "data": {
      "text/html": [
       "$R ^2 _{ajus} = 0.059$"
      ],
      "text/plain": [
       "<IPython.core.display.HTML object>"
      ]
     },
     "metadata": {},
     "output_type": "display_data"
    },
    {
     "name": "stdout",
     "output_type": "stream",
     "text": [
      "Modelo 8:\n"
     ]
    },
    {
     "data": {
      "text/html": [
       "$Y = \\beta_0 + \\beta _{1}A + \\beta _{2}AB\\rightarrow \\left[\\beta _{0}, \\beta _{1}, \\beta _{2}\\right] = \\left[4.467, 1.063, 1.65\\right]$"
      ],
      "text/plain": [
       "<IPython.core.display.HTML object>"
      ]
     },
     "metadata": {},
     "output_type": "display_data"
    },
    {
     "data": {
      "text/html": [
       "$R ^2 _{ajus} = 0.12$"
      ],
      "text/plain": [
       "<IPython.core.display.HTML object>"
      ]
     },
     "metadata": {},
     "output_type": "display_data"
    },
    {
     "name": "stdout",
     "output_type": "stream",
     "text": [
      "Modelo 9:\n"
     ]
    },
    {
     "data": {
      "text/html": [
       "$Y = \\beta_0 + \\beta _{1}A + \\beta _{2}B\\rightarrow \\left[\\beta _{0}, \\beta _{1}, \\beta _{2}\\right] = \\left[4.574, 1.025, 0.463\\right]$"
      ],
      "text/plain": [
       "<IPython.core.display.HTML object>"
      ]
     },
     "metadata": {},
     "output_type": "display_data"
    },
    {
     "data": {
      "text/html": [
       "$R ^2 _{ajus} = 0.044$"
      ],
      "text/plain": [
       "<IPython.core.display.HTML object>"
      ]
     },
     "metadata": {},
     "output_type": "display_data"
    },
    {
     "name": "stdout",
     "output_type": "stream",
     "text": [
      "Modelo 10:\n"
     ]
    },
    {
     "data": {
      "text/html": [
       "$Y = \\beta_0 + \\beta _{1}AB + \\beta _{2}B\\rightarrow \\left[\\beta _{0}, \\beta _{1}, \\beta _{2}\\right] = \\left[4.467, 1.65, 0.547\\right]$"
      ],
      "text/plain": [
       "<IPython.core.display.HTML object>"
      ]
     },
     "metadata": {},
     "output_type": "display_data"
    },
    {
     "data": {
      "text/html": [
       "$R ^2 _{ajus} = 0.049$"
      ],
      "text/plain": [
       "<IPython.core.display.HTML object>"
      ]
     },
     "metadata": {},
     "output_type": "display_data"
    },
    {
     "name": "stdout",
     "output_type": "stream",
     "text": [
      "Modelo 11:\n"
     ]
    },
    {
     "data": {
      "text/html": [
       "$Y = \\beta_0 + \\beta _{1}C + \\beta _{2}A + \\beta _{3}AB\\rightarrow \\left[\\beta _{0}, \\beta _{1}, \\beta _{2}, \\beta _{3}\\right] = \\left[4.467, 1.063, 0.976, 1.65\\right]$"
      ],
      "text/plain": [
       "<IPython.core.display.HTML object>"
      ]
     },
     "metadata": {},
     "output_type": "display_data"
    },
    {
     "data": {
      "text/html": [
       "$R ^2 _{ajus} = 0.188$"
      ],
      "text/plain": [
       "<IPython.core.display.HTML object>"
      ]
     },
     "metadata": {},
     "output_type": "display_data"
    },
    {
     "name": "stdout",
     "output_type": "stream",
     "text": [
      "Modelo 12:\n"
     ]
    },
    {
     "data": {
      "text/html": [
       "$Y = \\beta_0 + \\beta _{1}C + \\beta _{2}A + \\beta _{3}B\\rightarrow \\left[\\beta _{0}, \\beta _{1}, \\beta _{2}, \\beta _{3}\\right] = \\left[4.574, 1.034, 0.947, 0.385\\right]$"
      ],
      "text/plain": [
       "<IPython.core.display.HTML object>"
      ]
     },
     "metadata": {},
     "output_type": "display_data"
    },
    {
     "data": {
      "text/html": [
       "$R ^2 _{ajus} = 0.103$"
      ],
      "text/plain": [
       "<IPython.core.display.HTML object>"
      ]
     },
     "metadata": {},
     "output_type": "display_data"
    },
    {
     "name": "stdout",
     "output_type": "stream",
     "text": [
      "Modelo 13:\n"
     ]
    },
    {
     "data": {
      "text/html": [
       "$Y = \\beta_0 + \\beta _{1}C + \\beta _{2}AB + \\beta _{3}B\\rightarrow \\left[\\beta _{0}, \\beta _{1}, \\beta _{2}, \\beta _{3}\\right] = \\left[4.467, 1.106, 1.65, 0.457\\right]$"
      ],
      "text/plain": [
       "<IPython.core.display.HTML object>"
      ]
     },
     "metadata": {},
     "output_type": "display_data"
    },
    {
     "data": {
      "text/html": [
       "$R ^2 _{ajus} = 0.122$"
      ],
      "text/plain": [
       "<IPython.core.display.HTML object>"
      ]
     },
     "metadata": {},
     "output_type": "display_data"
    },
    {
     "name": "stdout",
     "output_type": "stream",
     "text": [
      "Modelo 14:\n"
     ]
    },
    {
     "data": {
      "text/html": [
       "$Y = \\beta_0 + \\beta _{1}A + \\beta _{2}AB + \\beta _{3}B\\rightarrow \\left[\\beta _{0}, \\beta _{1}, \\beta _{2}, \\beta _{3}\\right] = \\left[4.467, 1.025, 1.65, 0.463\\right]$"
      ],
      "text/plain": [
       "<IPython.core.display.HTML object>"
      ]
     },
     "metadata": {},
     "output_type": "display_data"
    },
    {
     "data": {
      "text/html": [
       "$R ^2 _{ajus} = 0.106$"
      ],
      "text/plain": [
       "<IPython.core.display.HTML object>"
      ]
     },
     "metadata": {},
     "output_type": "display_data"
    },
    {
     "name": "stdout",
     "output_type": "stream",
     "text": [
      "Modelo 15:\n"
     ]
    },
    {
     "data": {
      "text/html": [
       "$Y = \\beta_0 + \\beta _{1}C + \\beta _{2}A + \\beta _{3}AB + \\beta _{4}B\\rightarrow \\left[\\beta _{0}, \\beta _{1}, \\beta _{2}, \\beta _{3}, \\beta _{4}\\right] = \\left[4.467, 1.034, 0.947, 1.65, 0.385\\right]$"
      ],
      "text/plain": [
       "<IPython.core.display.HTML object>"
      ]
     },
     "metadata": {},
     "output_type": "display_data"
    },
    {
     "data": {
      "text/html": [
       "$R ^2 _{ajus} = 0.17$"
      ],
      "text/plain": [
       "<IPython.core.display.HTML object>"
      ]
     },
     "metadata": {},
     "output_type": "display_data"
    }
   ],
   "source": [
    "for key in Iniciales:\n",
    "    print('Modelo ' + str(key) + ':')\n",
    "    Models(Iniciales[key])"
   ]
  },
  {
   "cell_type": "markdown",
   "metadata": {
    "slideshow": {
     "slide_type": "slide"
    }
   },
   "source": [
    "#### Mejor modelo Inicial\n",
    "\n",
    "El modelo base seleccionado es:"
   ]
  },
  {
   "cell_type": "code",
   "execution_count": 9,
   "metadata": {},
   "outputs": [
    {
     "data": {
      "text/html": [
       "$Y = \\beta_0 + \\beta _{1}C + \\beta _{2}A + \\beta _{3}AB\\rightarrow \\left[\\beta _{0}, \\beta _{1}, \\beta _{2}, \\beta _{3}\\right] = \\left[4.467, 1.063, 0.976, 1.65\\right]$"
      ],
      "text/plain": [
       "<IPython.core.display.HTML object>"
      ]
     },
     "metadata": {},
     "output_type": "display_data"
    },
    {
     "data": {
      "text/html": [
       "$R ^2 _{ajus} = 0.188$"
      ],
      "text/plain": [
       "<IPython.core.display.HTML object>"
      ]
     },
     "metadata": {},
     "output_type": "display_data"
    },
    {
     "data": {
      "text/plain": [
       "<App.Modelos.Respuesta.Models at 0x72ef50>"
      ]
     },
     "execution_count": 9,
     "metadata": {},
     "output_type": "execute_result"
    }
   ],
   "source": [
    "Models(Mejor)"
   ]
  },
  {
   "cell_type": "markdown",
   "metadata": {
    "slideshow": {
     "slide_type": "slide"
    }
   },
   "source": [
    "## Modelo Final\n",
    "\n",
    "<br>\n",
    "\n",
    "\n",
    "El modelo base corresponde al mejor modelo seleccionado con exponente a la 1. Ahora, se evaluará la misma combinación con diferentes exponentes. El criterio de selección es el mayor $R ^2 _{ajus}$ posible. Se trata de un proceso iterativo en el que se evalúa la tendencia del criterio, para prever la mejor combinación de exponentes que permita seleccionar el modelo matemático final."
   ]
  },
  {
   "cell_type": "code",
   "execution_count": 10,
   "metadata": {
    "slideshow": {
     "slide_type": "-"
    }
   },
   "outputs": [],
   "source": [
    "#Ecuación a evaluar\n",
    "Porcentaje = 1.1       #Recomendable: 0.85 - Visualizar < 1.0\n",
    "Eq = Mejor['Ecuación']\n",
    "Eq = ('C', 'A', 'AB', 'ABC')\n",
    "Final = ModeloFinal(Eq, NormDist, ref = 0.95, Y = Data_Plant['Y'],\\\n",
    "                    maximo=2, db='db', Porcentaje=Porcentaje)"
   ]
  },
  {
   "cell_type": "code",
   "execution_count": null,
   "metadata": {
    "slideshow": {
     "slide_type": "subslide"
    }
   },
   "outputs": [],
   "source": [
    "#¿Quieres seleccionar el mejor modelo inicial?\n",
    "Modelo = Mejor\n",
    "%store Modelo"
   ]
  },
  {
   "cell_type": "code",
   "execution_count": 11,
   "metadata": {
    "scrolled": true,
    "slideshow": {
     "slide_type": "subslide"
    }
   },
   "outputs": [
    {
     "data": {
      "text/html": [
       "$Y = \\beta_0 + \\beta _{1}C + \\beta _{2}A + \\beta _{3}A^{2} + \\beta _{4}AB^{2} + \\beta _{5}ABC^{2} + \\beta _{6}AB^{2}C^{2}\\rightarrow \\left[\\beta _{0}, \\beta _{1}, \\beta _{2}, \\beta _{3}, \\beta _{4}, \\beta _{5}, \\beta _{6}\\right] = \\left[2.8, 1.064, 0.968, 2.244, 3.592, 2.035, -4.464\\right]$"
      ],
      "text/plain": [
       "<IPython.core.display.HTML object>"
      ]
     },
     "metadata": {},
     "output_type": "display_data"
    },
    {
     "data": {
      "text/html": [
       "$R ^2 _{ajus} = 0.959$"
      ],
      "text/plain": [
       "<IPython.core.display.HTML object>"
      ]
     },
     "metadata": {},
     "output_type": "display_data"
    },
    {
     "name": "stdout",
     "output_type": "stream",
     "text": [
      "Stored 'Modelo' (dict)\n"
     ]
    }
   ],
   "source": [
    "Modelo = Final.Ans\n",
    "Models(Modelo)\n",
    "%store Modelo"
   ]
  },
  {
   "cell_type": "markdown",
   "metadata": {
    "slideshow": {
     "slide_type": "slide"
    }
   },
   "source": [
    "### Resultados Gráficos\n",
    "\n",
    "<br>\n",
    "\n",
    "<div align = \"justify\">\n",
    "    Los resultados gráficos (Y vs Ycal y Residuo) se pueden apreciar a continuación.\n",
    "</div>"
   ]
  },
  {
   "cell_type": "code",
   "execution_count": 12,
   "metadata": {},
   "outputs": [
    {
     "data": {
      "text/plain": [
       "<App.Modelos.Resultados.Ys at 0x72e030>"
      ]
     },
     "execution_count": 12,
     "metadata": {},
     "output_type": "execute_result"
    },
    {
     "data": {
      "image/png": "[encoded data removed]",
      "text/plain": [
       "<Figure size 432x288 with 1 Axes>"
      ]
     },
     "metadata": {
      "needs_background": "light"
     },
     "output_type": "display_data"
    }
   ],
   "source": [
    "from App.Modelos.Resultados import *\n",
    "Ys(Modelo, Data_Plant['Y'])"
   ]
  },
  {
   "cell_type": "code",
   "execution_count": 14,
   "metadata": {
    "slideshow": {
     "slide_type": "subslide"
    }
   },
   "outputs": [
    {
     "data": {
      "text/plain": [
       "<App.Modelos.Resultados.Residuo at 0x9858f0>"
      ]
     },
     "execution_count": 14,
     "metadata": {},
     "output_type": "execute_result"
    },
    {
     "data": {
      "image/png": "[encoded data removed]",
      "text/plain": [
       "<Figure size 432x288 with 1 Axes>"
      ]
     },
     "metadata": {
      "needs_background": "light"
     },
     "output_type": "display_data"
    }
   ],
   "source": [
    "Residuo(Modelo, Data_Plant['Y'])"
   ]
  },
  {
   "cell_type": "code",
   "execution_count": 15,
   "metadata": {
    "slideshow": {
     "slide_type": "subslide"
    }
   },
   "outputs": [
    {
     "data": {
      "image/png": "[encoded data removed]",
      "text/plain": [
       "<Figure size 432x288 with 1 Axes>"
      ]
     },
     "metadata": {
      "needs_background": "light"
     },
     "output_type": "display_data"
    },
    {
     "data": {
      "text/plain": [
       "<App.Modelos.Resultados.SuperficieRespuesta at 0x726f50>"
      ]
     },
     "execution_count": 15,
     "metadata": {},
     "output_type": "execute_result"
    }
   ],
   "source": [
    "#Para ejemplo 1\n",
    "limits = {\n",
    "    'A':{\n",
    "        '-1':3,\n",
    "        '1':8\n",
    "    },\n",
    "    'B':{\n",
    "        '-1':30,\n",
    "        '1':60\n",
    "    },\n",
    "    'C':{\n",
    "        '-1':8,\n",
    "        '1':20\n",
    "    }\n",
    "}\n",
    "\n",
    "SuperficieRespuesta(Modelo, limits)"
   ]
  }
 ],
 "metadata": {
  "kernelspec": {
   "display_name": "Python 3",
   "language": "python",
   "name": "python3"
  },
  "language_info": {
   "codemirror_mode": {
    "name": "ipython",
    "version": 3
   },
   "file_extension": ".py",
   "mimetype": "text/x-python",
   "name": "python",
   "nbconvert_exporter": "python",
   "pygments_lexer": "ipython3",
   "version": "3.7.4"
  }
 },
 "nbformat": 4,
 "nbformat_minor": 4
}
