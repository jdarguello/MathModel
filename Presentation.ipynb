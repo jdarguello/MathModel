{
 "cells": [
  {
   "cell_type": "markdown",
   "metadata": {},
   "source": [
    "<h1><center>Desarrollo de modelos matemáticos</center></h1>\n",
    "<h2><center>Juan David Argüello Plata</center></h2>\n",
    "<img src=\"Images/cenivam.png\" style=\"width: 200px;\" />\n",
    "<h3><center>Universidad Industrial de Santander</center></h3>\n",
    "\n",
    "<div align=\"justify\">\n",
    "    En el presente trabajo, se desarrolla un análisis referente al planteamiento de modelos matemáticos a partir de datos experimentales obtenidos de un diseño experimental fraccionado - NIST. \n",
    "</div>\n",
    "\n",
    "Nos centramos tanto en el plantemiento del [modelo](Planteamiento.ipynb) como en la [validación](validation.ipynb) del mismo; pero antes, es necesario hablar un poco sobre los [datos](data.ipynb) experimentales.\n"
   ]
  },
  {
   "cell_type": "code",
   "execution_count": null,
   "metadata": {},
   "outputs": [],
   "source": []
  }
 ],
 "metadata": {
  "kernelspec": {
   "display_name": "Python 3",
   "language": "python",
   "name": "python3"
  },
  "language_info": {
   "codemirror_mode": {
    "name": "ipython",
    "version": 3
   },
   "file_extension": ".py",
   "mimetype": "text/x-python",
   "name": "python",
   "nbconvert_exporter": "python",
   "pygments_lexer": "ipython3",
   "version": "3.7.3"
  }
 },
 "nbformat": 4,
 "nbformat_minor": 2
}
