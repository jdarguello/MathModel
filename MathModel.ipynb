{
 "cells": [
  {
   "cell_type": "markdown",
   "metadata": {},
   "source": [
    "<center><h1><strong>Math Model Software</strong></h1></center>\n",
    "<h2><center>Juan David Argüello Plata, PhD. Jairo René Martínez Morales, Andrés Fernando González Suárez</center></h2>\n",
    "<img src=\"Images/cenivam.png\" style=\"width: 250px;\" />\n",
    "<h3><center>Industrial University of Santander</center></h3>\n",
    "\n",
    "<div align=\"center\">\n",
    "    <h2>Abstract</h2>\n",
    "    This article presents <i>Math Model Software</i>, which is an interactive, <strong>open source</strong>, tool made in <i>Python</i> - <i>Jupyter</i> that is useful for the developement and validation of experimental mathematical models. The goal of this work is to be both an educational and productivity tool, so the user can be completely sure of whats the logic behind the software. It is written in spanish and english.\n",
    "</div>\n",
    "\n",
    "## Choose your language\n",
    "\n",
    "Select your language of preference and then press the button to continue."
   ]
  },
  {
   "cell_type": "code",
   "execution_count": 1,
   "metadata": {},
   "outputs": [
    {
     "data": {
      "application/vnd.jupyter.widget-view+json": {
       "model_id": "5868c3b34ba847318bb184608fb353d2",
       "version_major": 2,
       "version_minor": 0
      },
      "text/plain": [
       "Dropdown(options=('English', 'Spanish'), value='English')"
      ]
     },
     "metadata": {},
     "output_type": "display_data"
    }
   ],
   "source": [
    "from App.Widgets.Dropdown import * \n",
    "lang = Down()\n",
    "language = lang.value()"
   ]
  },
  {
   "cell_type": "code",
   "execution_count": 2,
   "metadata": {},
   "outputs": [
    {
     "data": {
      "application/vnd.jupyter.widget-view+json": {
       "model_id": "541b9e6c7b5748ebb6bd9fdcae15e8c0",
       "version_major": 2,
       "version_minor": 0
      },
      "text/plain": [
       "VBox(children=(Button(description='Data Selection', style=ButtonStyle()), Output()))"
      ]
     },
     "metadata": {},
     "output_type": "display_data"
    }
   ],
   "source": [
    "import ipywidgets as widgets\n",
    "import subprocess\n",
    "button = widgets.Button(description='Data Selection')\n",
    "out = widgets.Output()\n",
    "def on_button_clicked(b):\n",
    "    with out:\n",
    "        language = lang.value()\n",
    "        subprocess.run(\"jupyter lab Languages/\" + language + \"/data.ipynb\")\n",
    "\n",
    "button.on_click(on_button_clicked)\n",
    "widgets.VBox([button, out])"
   ]
  },
  {
   "cell_type": "markdown",
   "metadata": {},
   "source": [
    "# _Bibliography_\n",
    "\n",
    "[1] Montgomery, Douglas C. _\"Design and analysis of experiments\"_. Eigth Edition: John Wiley & Sons, Inc. Arizona State University. pp. 183 - 320.\n",
    "\n",
    "\n",
    "[2] Hawkins, Douglas M., Basak, Subhash C. and Mills, Denise. _\"Assessing model fit by Cross-Validation\"_. J. Chem. Inf. Comput. Sci. 2003. V. 43. pp. 579-586.\n",
    "\n",
    "[3] Tropshar, A., Gramatica, Paola and Gombar, Vijay K. _\"The importance of being earnest: validation is the absolute essential for succesful application and interpretation of QSPR models\"_. QSAR & amp; Combinatorial Science. V. 22. pp. 69-76."
   ]
  }
 ],
 "metadata": {
  "kernelspec": {
   "display_name": "Python 3",
   "language": "python",
   "name": "python3"
  },
  "language_info": {
   "codemirror_mode": {
    "name": "ipython",
    "version": 3
   },
   "file_extension": ".py",
   "mimetype": "text/x-python",
   "name": "python",
   "nbconvert_exporter": "python",
   "pygments_lexer": "ipython3",
   "version": "3.7.4"
  },
  "toc-showmarkdowntxt": false
 },
 "nbformat": 4,
 "nbformat_minor": 4
}
