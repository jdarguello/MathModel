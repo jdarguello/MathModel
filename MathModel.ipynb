{
 "cells": [
  {
   "cell_type": "markdown",
   "metadata": {},
   "source": [
    "<center><h1><strong>Math Model Software</strong></h1></center>\n",
    "<h2><center>Juan David Argüello Plata, PhD. Jairo René Martínez Morales, Andrés Fernando González Suárez</center></h2>\n",
    "<img src=\"Images/cenivam.png\" style=\"width: 250px;\" />\n",
    "<h3><center>Industrial University of Santander</center></h3>\n",
    "\n",
    "<div align=\"center\">\n",
    "    <h2>Abstract</h2>\n",
    "    This article presents <i>Math Model Software</i>, which is an interactive, <strong>open source</strong>, tool made in <i>Python</i> - <i>Jupyter</i> that is useful for the developement and validation of experimental mathematical models. The goal of this work is to be both an educational and productivity tool, so the user can be completely sure of whats the logic behind the software. It is written in spanish and english.\n",
    "</div>\n",
    "\n",
    "## Choose your language\n",
    "\n",
    "Select your language of preference and then press the button to continue."
   ]
  },
  {
   "cell_type": "code",
   "execution_count": 2,
   "metadata": {},
   "outputs": [
    {
     "data": {
      "application/vnd.jupyter.widget-view+json": {
       "model_id": "0f7afc99999e463fbf2d9c25394e1fe9",
       "version_major": 2,
       "version_minor": 0
      },
      "text/plain": [
       "Dropdown(options=('English', 'Spanish'), value='English')"
      ]
     },
     "metadata": {},
     "output_type": "display_data"
    }
   ],
   "source": [
    "from App.Widgets.Dropdown import * \n",
    "lang = Down()\n"
   ]
  },
  {
   "cell_type": "code",
   "execution_count": 21,
   "metadata": {},
   "outputs": [
    {
     "name": "stdout",
     "output_type": "stream",
     "text": [
      "Stored 'language' (str)\n"
     ]
    },
    {
     "data": {
      "text/html": [
       "Haz click <a href='Languages/Spanish/data.ipynb'>aquí</a> para ir a la página de <i>selección de datos</i>."
      ],
      "text/plain": [
       "<IPython.core.display.HTML object>"
      ]
     },
     "metadata": {},
     "output_type": "display_data"
    }
   ],
   "source": [
    "from IPython.display import display, HTML\n",
    "language = lang.value()\n",
    "%store language\n",
    "if language == 'English':\n",
    "    text = \"<a href='Languages/\" + language + \"/data.ipynb'>Click</a> here to go to the <i>data selection</i> page.\"\n",
    "else:\n",
    "    text = \"Haz click <a href='Languages/\" + language + \"/data.ipynb'>aquí</a> para ir a la página de <i>selección de datos</i>.\"\n",
    "display(HTML(text))"
   ]
  },
  {
   "cell_type": "markdown",
   "metadata": {},
   "source": [
    "# _Bibliography_\n",
    "\n",
    "[1] Montgomery, Douglas C. _\"Design and analysis of experiments\"_. Eigth Edition: John Wiley & Sons, Inc. Arizona State University. pp. 183 - 320.\n",
    "\n",
    "\n",
    "[2] Hawkins, Douglas M., Basak, Subhash C. and Mills, Denise. _\"Assessing model fit by Cross-Validation\"_. J. Chem. Inf. Comput. Sci. 2003. V. 43. pp. 579-586.\n",
    "\n",
    "[3] Tropshar, A., Gramatica, Paola and Gombar, Vijay K. _\"The importance of being earnest: validation is the absolute essential for succesful application and interpretation of QSPR models\"_. QSAR & amp; Combinatorial Science. V. 22. pp. 69-76."
   ]
  }
 ],
 "metadata": {
  "kernelspec": {
   "display_name": "Python 3",
   "language": "python",
   "name": "python3"
  },
  "language_info": {
   "codemirror_mode": {
    "name": "ipython",
    "version": 3
   },
   "file_extension": ".py",
   "mimetype": "text/x-python",
   "name": "python",
   "nbconvert_exporter": "python",
   "pygments_lexer": "ipython3",
   "version": "3.7.4"
  },
  "toc-showmarkdowntxt": false
 },
 "nbformat": 4,
 "nbformat_minor": 4
}
