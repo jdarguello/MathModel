{
 "cells": [
  {
   "cell_type": "markdown",
   "metadata": {},
   "source": [
    "<center><h1><strong>Math Model Software</strong></h1></center>\n",
    "<h2><center>Juan David Argüello Plata, PhD. Jairo René Martínez Morales</center></h2>\n",
    "<img src=\"Images/cenivam.png\" style=\"width: 200px;\" />\n",
    "<h3><center>Industrial University of Santander</center></h3>\n",
    "\n",
    "<div align=\"center\">\n",
    "    <h2>Abstract</h2>\n",
    "    This article presents <i>Math Model Software</i>, which is an interactive, <strong>open source</strong>, software made in <i>Python</i> - <i>Jupyter</i> that is useful for the developement and validation of experimental mathematical models. The goal of this work is to be both an educational and productivity tool.\n",
    "</div>\n",
    "\n",
    "<br>\n",
    "\n",
    "Nos centramos tanto en el plantemiento del [modelo](Languages/Spanish/Planteamiento.ipynb) como en la [validación](Languages/Spanish/validation.ipynb) del mismo; pero antes, es necesario hablar un poco sobre los [datos](Languages/Spanish/data.ipynb) experimentales.\n"
   ]
  },
  {
   "cell_type": "markdown",
   "metadata": {},
   "source": [
    "# Bibliography\n",
    "\n",
    "[1] Montgomery, Douglas C. _\"Design and analysis of experiments\"_. Eigth Edition: John Wiley & Sons, Inc. Arizona State University. pp. 183 - 320."
   ]
  }
 ],
 "metadata": {
  "kernelspec": {
   "display_name": "Python 3",
   "language": "python",
   "name": "python3"
  },
  "language_info": {
   "codemirror_mode": {
    "name": "ipython",
    "version": 3
   },
   "file_extension": ".py",
   "mimetype": "text/x-python",
   "name": "python",
   "nbconvert_exporter": "python",
   "pygments_lexer": "ipython3",
   "version": "3.7.4"
  },
  "toc-showmarkdowntxt": false
 },
 "nbformat": 4,
 "nbformat_minor": 4
}
