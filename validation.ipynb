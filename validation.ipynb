{
 "cells": [
  {
   "cell_type": "markdown",
   "metadata": {},
   "source": [
    "<h1><center>VALIDACIÓN DEL MODELO</center></h1>\n",
    "\n",
    "<br>\n",
    "\n",
    "<div align = \"justify\">\n",
    "    La validación del modelo matemático es una etapa crucial dentro del diseño experimental debido a que garantiza tanto la viabilidad como el dominio de operación del modelo que describe el fenómeno físico-químico de estudio.\n",
    "</div>\n",
    "\n",
    "<br>\n",
    "\n",
    "<div align = \"justify\">\n",
    "    El planteamiento de la Relación Cuantitativa Estructura - Propiedad (QSPR, por sus siglas en inglés) conlleva las siguientes prácticas:\n",
    "    <br>\n",
    "    <br>\n",
    "    <i>Prácticas comunes:</i>\n",
    "    <ol type='1'>\n",
    "        <li><strong>Preparación de los datos experimentales:</strong>\n",
    "            Incluye $(i)$ la recolección y <i>limpieza</i> de los datos; $(ii)$ cálculo de los decriptores químicos que contengan las propiedades objetivo; y $(iii)$ unión de la propiedad y la respuesta en una base de datos de tipo SPR.\n",
    "        </li>\n",
    "        <li><strong>Generación del modelo:</strong>\n",
    "            Implica establecer relaciones estadísticas entre las propiedades objetivo y la respuesta experimental.\n",
    "        </li>\n",
    "     <br>\n",
    "        <i>Prácticas <strong>no</strong> comunes:</i>\n",
    "        <br>\n",
    "     <br>\n",
    "        <li><strong>Validación del modelo:</strong>\n",
    "            Implica la evaluación cuantitativa de la solidez del modelo y su capacidad predictiva.\n",
    "        </li>\n",
    "        <li><strong>Definición del dominio de aplicación:</strong>\n",
    "            Dominio matemático donde es viable emplear el modelo propuesto. \n",
    "        </li>\n",
    "    </ol>\n",
    "</div>"
   ]
  },
  {
   "cell_type": "code",
   "execution_count": null,
   "metadata": {},
   "outputs": [],
   "source": [
    "%store -r Modelo\n",
    "%store -r Data_Val\n",
    "%store -r Data_Plant\n",
    "%store -r nombre_bd\n",
    "%store -r Estab\n",
    "%store -r Datos\n",
    "%store -r archivo"
   ]
  },
  {
   "cell_type": "markdown",
   "metadata": {},
   "source": [
    "## Metodologías de validación\n",
    "\n",
    "<br>\n",
    "\n",
    "Existen diversas metodologías de validación, entre ellas:\n",
    "\n",
    "* __LMO:__ La premisa de esta metodología está en que si un modelo QSPR tiene una media alta $q^2$ durante el proceso de validación, se puede concluir que el modelo obtenido es robusto. Los $n$ datos se dividen en $G$ grupos de igual tamaño, $m_j \\left( = n/G \\right)$. Dependiendo del valor de $n$, $G$ generalmente se selecciona entre 2 y 10. Un gran grupo de modelos son desarrollados con cada $n-m_j$ objetos en el conjunto de entrenamiento y $m_j$ objetos en el conjunto de validación. Para cada modelo correspondiente, se predicen los objetos $m_j$ y se computa $q^2$. Son deseables altos valores de $q^2$.\n",
    "\n",
    "* __Bootstrapping:__ Metodología de remuestreo que funciona con una muestra representativa de la población. Como sólo hay un grupo de datos, el bootstrapping simula qué ocurriría si las muestras se seleccionaran de manera aleatoria. En un procedimiento de validación típico, se generan $k$ grupos aleatorios de tamaño $n$ del grupo de datos original. Al igual que la validación LMO, es deseable un alto $q^2$ que demuestre la robustez del modelo.\n",
    "\n",
    "* __Prueba de aleatoriedad - Y:__ Técnica ampliamente usada para garantizar la robustez del modelo QSPR. En esta prueba, el vector de variables dependiente, Y, se cambia de manera aleatoria para la generación de un nuevo modelo QSPR usando la matriz original de variables independientes. El proceso se repite en varias ocasiones. Se espera que los modelos QSPR resultantes tengan bajos valores de $R^2$ y LOO (Leave-One-Out) $q^2$. Es probable, aunque infrecuente, que se obtengan altos valores $q^2$ debido a una correlación fortuita o una redundancia estructural del conjunto de datos. Si todos los modelos QSPR obtenidos por aleatoriedad - Y presentan altos valores de $R^2$ y $q^2$, implica que un modelo QSPR aceptable __no__ puede ser obtenido por el grupo de datos dado.\n",
    "\n",
    "* __Validación externa:__ \n",
    "\n",
    "    * _Selección de datos de planteamiento y validación:_ En situaciones típicas, es difícil encontrar nuevos compuestos probados experimentalmente para este propósito. El recurso empleado es, entonces, dividir el conjunto de datos experimentales en datos para el plantemiento del modelo QSPR y datos para validación externa. El objetivo en esta etapa es garantizar que tanto los datos de validación como los de planteamiento ocupen el mismo dominio del fenómeno físico-químico de estudio. La partición de datos entre planteamiento y validación es un área de investigación activa. Es recomendable que el conjunto de validación externa contenga al menos 5 compuestos que describan el rango de actividad de los compuestos incluidos en el conjunto de planteamiento. Está demostrado que modelos QSPR desarrollados y validados mediante esta metodología tiene un alcance predictivo mayor que los mencionados anteriormente.\n",
    "    \n",
    "    * _Evaluación del poder predictivo de modelos QSPR:_ En orden de estimar la verdadera capacidad predictiva del modelo QSPR, es necesario comparar las actividades predecibles y observadas de una base de datos lo suficientemente grande que no hubiese sido empleada para el desarrollo del modelo matemático. El poder predictivo del modelo QSPR se puede estimar mediante un $q^2$ externo definido mediante la Ecuación \\ref{q2}.\n",
    "    \n",
    "    $$\n",
    "    \\begin{equation}\n",
    "        q^2 _{ext} = 1 - \\frac{\\sum ^{Pr} _{i=1} \\left( y_i - \\hat{y} _i \\right) ^2}{\\sum ^{Pr} _{i=1} \\left( y_i - \\bar{y} _{tr} \\right) ^2}\n",
    "        \\label{q2}\n",
    "        \\tag{1}\n",
    "    \\end{equation}\n",
    "    $$\n",
    "    Dónde $y_i$ y $\\hat{y} _i$ son los valores medido y predecido, respectivamente, de la variable dependiente $\\bar{y} _{tr}$, que es el valor medio del conjunto de datos.\n",
    "    \n",
    "    Se considera que el modelo es __predictivo__ cuando se satisfacen las siguientes condiciones:\n",
    "    $$\n",
    "    \\begin{equation}\n",
    "        \\begin{array}\n",
    "            q q^2 > 0.5\\\\ \\\\\n",
    "            R ^2 > 0.6 \\\\ \\\\\n",
    "            \\frac{\\left(R^2 - R ^2 _0 \\right)}{R^2} < 0.1 \\\\ \\\\\n",
    "            0.85 \\leq k \\leq 1.15\n",
    "        \\end{array}\n",
    "    \\end{equation}\n",
    "    $$\n",
    "\n",
    "La metodología de validación empleada a continuación es la __prueba de aleatoriedad - Y__."
   ]
  },
  {
   "cell_type": "code",
   "execution_count": null,
   "metadata": {},
   "outputs": [],
   "source": [
    "from App.Validation.AlY import AleatoriedadY\n",
    "from App.Validation.Results import TablaAlY\n",
    "AlY = AleatoriedadY(Modelo, Datos['Y'], Estab, nombre_bd)\n",
    "ValData = AlY.Respuesta\n",
    "TablaAlY(ValData, Modelo['Ecuación'])"
   ]
  },
  {
   "cell_type": "markdown",
   "metadata": {},
   "source": [
    "## Definición del dominio de aplicación\n",
    "\n",
    "<br>\n",
    "\n",
    "<div align = \"justify\">\n",
    "    No importa cuán robusto sea el modelo QSPR validado: <i>no es confiable pensar que los resultados del modelo apliquen para todo el universo químico.</i> \n",
    "</div>"
   ]
  },
  {
   "cell_type": "code",
   "execution_count": null,
   "metadata": {},
   "outputs": [],
   "source": []
  },
  {
   "cell_type": "markdown",
   "metadata": {},
   "source": [
    "# Guardar\n",
    "\n",
    "<br> \n",
    "\n",
    "<div align = \"justify\">\n",
    "    Los resultados, tanto los del desarrollo del modelo matemático como los de validación, se guardarán y los podrás encontrar en la dirección: App/DataBase/Resultados\n",
    "</div>"
   ]
  },
  {
   "cell_type": "code",
   "execution_count": null,
   "metadata": {},
   "outputs": [],
   "source": [
    "from App.DataBase.Guardar import Save\n",
    "Save(Modelo, ValData, Datos['Y'], archivo)"
   ]
  }
 ],
 "metadata": {
  "kernelspec": {
   "display_name": "Python 3",
   "language": "python",
   "name": "python3"
  },
  "language_info": {
   "codemirror_mode": {
    "name": "ipython",
    "version": 3
   },
   "file_extension": ".py",
   "mimetype": "text/x-python",
   "name": "python",
   "nbconvert_exporter": "python",
   "pygments_lexer": "ipython3",
   "version": "3.7.3"
  }
 },
 "nbformat": 4,
 "nbformat_minor": 2
}
