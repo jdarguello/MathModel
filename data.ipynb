{
 "cells": [
  {
   "cell_type": "markdown",
   "metadata": {},
   "source": [
    "# Datos experimentales\n",
    "\n",
    "<br>\n",
    "\n",
    "<div align=\"justify\">\n",
    "    Los datos experimentales definen tanto el número de variables que compondrán el modelo como de la cantidad de modelos matemáticos posibles.\n",
    "</div>\n",
    "\n",
    "<br>\n",
    "\n",
    "Empezamos importando y analizando el modelo..."
   ]
  },
  {
   "cell_type": "code",
   "execution_count": 1,
   "metadata": {},
   "outputs": [
    {
     "name": "stdout",
     "output_type": "stream",
     "text": [
      "Modelado matemático/\n",
      "    .gitignore\n",
      "    Análisis de datos.xlsx\n",
      "    data.ipynb\n",
      "    LICENSE\n",
      "    Planteamiento.ipynb\n",
      "    Presentation.ipynb\n",
      "    requirements.txt\n",
      "    validation.ipynb\n",
      "    ~$Análisis de datos.xlsx\n",
      "    .git/\n",
      "        config\n",
      "        description\n",
      "        FETCH_HEAD\n",
      "        HEAD\n",
      "        index\n",
      "        hooks/\n",
      "            applypatch-msg.sample\n",
      "            commit-msg.sample\n",
      "            fsmonitor-watchman.sample\n",
      "            post-update.sample\n",
      "            pre-applypatch.sample\n",
      "            pre-commit.sample\n",
      "            pre-push.sample\n",
      "            pre-rebase.sample\n",
      "            pre-receive.sample\n",
      "            prepare-commit-msg.sample\n",
      "            update.sample\n",
      "        info/\n",
      "            exclude\n",
      "        logs/\n",
      "            HEAD\n",
      "            refs/\n",
      "                heads/\n",
      "                    master\n",
      "                remotes/\n",
      "                    origin/\n",
      "                        master\n",
      "        objects/\n",
      "            14/\n",
      "                6f63ef1306497dc770c11b2d8a3c33b7ecae98\n",
      "            19/\n",
      "                87a013799b5ac4c160e158463860e1b3717fd6\n",
      "            38/\n",
      "                a5d57dce34ed8cd6be290e8f809ef2d0b0c370\n",
      "            3c/\n",
      "                8ab733137f06ed02c63985551ffe5dc1542436\n",
      "            40/\n",
      "                42b933caa7f69a66fb2065bf6fd3963d7594c1\n",
      "            4b/\n",
      "                fe2d15e28b30a64200a7ec4a1146797f3259ea\n",
      "            5f/\n",
      "                0a6edcc1aad44d3e1c6ad33b22785b59441d6c\n",
      "            89/\n",
      "                4a44cc066a027465cd26d634948d56d13af9af\n",
      "            8e/\n",
      "                ed5d732e82cc67aeb4d970ae14fda3d4a5bebe\n",
      "            a7/\n",
      "                3023df3f686026f23de2bd28407e7df3d5784a\n",
      "            b6/\n",
      "                1a8bb9ac7f853eefe168bf9a9e394a47a24241\n",
      "            c2/\n",
      "                f02bd091c1b806f37f0570cfd6fd1b9fb7ab75\n",
      "            c6/\n",
      "                7b209b253a0d107a98397cb2ac653bc683a92f\n",
      "            d2/\n",
      "                02f160427f84707bd6ddcaff9af0dc01d2b500\n",
      "            d9/\n",
      "                b4c05856c281b34a94fbeabc89faae7ee70df7\n",
      "            e5/\n",
      "                0009a8e645badbf0060ae6edca4e69e6049026\n",
      "            e6/\n",
      "                9de29bb2d1d6434b8b29ae775ad8c2e48c5391\n",
      "            e9/\n",
      "                8a3aef9989b1391f66a652c0dc4f896b93c979\n",
      "            ec/\n",
      "                1ae4671c08458b12f3734c4a00f4b8c466312a\n",
      "            f2/\n",
      "                88702d2fa16d3cdf0035b15a9fcbc552cd88e7\n",
      "            f4/\n",
      "                44118ecf0009ad0f19d266297c5c682733694d\n",
      "            fc/\n",
      "                15bf682c4f0d43e342f74269777b7fda424f10\n",
      "            ff/\n",
      "                d5aa436a0c4038eb82900b6a018e3ac1b63080\n",
      "            info/\n",
      "            pack/\n",
      "        refs/\n",
      "            heads/\n",
      "                master\n",
      "            remotes/\n",
      "                origin/\n",
      "                    master\n",
      "            tags/\n",
      "    .ipynb_checkpoints/\n",
      "        data-checkpoint.ipynb\n",
      "        Planteamiento-checkpoint.ipynb\n",
      "        Presentation-checkpoint.ipynb\n",
      "    App/\n",
      "        DirTree.py\n",
      "        Interprete.py\n",
      "        __init__.py\n",
      "        Datos/\n",
      "            1.txt\n",
      "            2.txt\n",
      "            Ejemplo.txt\n",
      "        Pretratamiento/\n",
      "            ANOVA.py\n",
      "            Estabilidad.py\n",
      "            __pycache__/\n",
      "                ANOVA.cpython-37.pyc\n",
      "                Estabilidad.cpython-37.pyc\n",
      "        __pycache__/\n",
      "            DirTree.cpython-37.pyc\n",
      "            Interprete.cpython-37.pyc\n",
      "            __init__.cpython-37.pyc\n",
      "    Images/\n",
      "        cenivam.png\n",
      "        uis.png\n"
     ]
    },
    {
     "data": {
      "text/plain": [
       "<App.DirTree.list_files at 0x5bedc10>"
      ]
     },
     "execution_count": 1,
     "metadata": {},
     "output_type": "execute_result"
    }
   ],
   "source": [
    "from App.DirTree import list_files\n",
    "import os\n",
    "\n",
    "current_dir = os.getcwd()\n",
    "list_files(current_dir)"
   ]
  },
  {
   "cell_type": "code",
   "execution_count": 5,
   "metadata": {},
   "outputs": [
    {
     "name": "stdout",
     "output_type": "stream",
     "text": [
      "A\tB\tC\tD\tF\tY\n",
      "-1\t1\t-1\t-1\t-1\t4,60\n",
      "-1\t-1\t-1\t1\t-1\t4,35\n",
      "1\t-1\t-1\t-1\t-1\t6,95\n",
      "1\t1\t-1\t1\t-1\t6,40\n",
      "1\t1\t-1\t-1\t1\t7,90\n",
      "-1\t1\t-1\t1\t1\t4,40\n",
      "1\t-1\t-1\t1\t1\t3,85\n",
      "-1\t-1\t-1\t-1\t1\t1,95\n",
      "-1\t1\t1\t1\t-1\t4,50\n",
      "-1\t-1\t1\t-1\t-1\t4,70\n",
      "1\t1\t1\t-1\t-1\t10,75\n",
      "1\t-1\t1\t1\t-1\t6,05\n",
      "1\t-1\t1\t-1\t1\t9,85\n",
      "1\t1\t1\t1\t1\t7,15\n",
      "-1\t1\t1\t-1\t1\t4,25\n",
      "-1\t-1\t1\t1\t1\t1,25\n",
      "\n",
      "\n"
     ]
    }
   ],
   "source": [
    "archivo = 'Ejemplo'\n",
    "path_file = 'App/Datos/' + archivo + '.txt'\n",
    "with open(path_file, encoding='latin-1') as file:\n",
    "    info = file.read()\n",
    "print(info)"
   ]
  },
  {
   "cell_type": "markdown",
   "metadata": {},
   "source": [
    "<div align=\"justify\">\n",
    "Es evidente que podemos observar los datos experimentales registrados en la base de datos, pero no podemos disponer de manera directa de esa información. Para ello, debemos convertirlo en una variable interpretable por el sistema.\n",
    "</div>"
   ]
  },
  {
   "cell_type": "code",
   "execution_count": 6,
   "metadata": {},
   "outputs": [
    {
     "name": "stdout",
     "output_type": "stream",
     "text": [
      "Stored 'Datos' (dict)\n"
     ]
    }
   ],
   "source": [
    "from App.Interprete import Data\n",
    "Datos = Data(archivo)()\n",
    "%store Datos"
   ]
  },
  {
   "cell_type": "markdown",
   "metadata": {},
   "source": [
    "Por ejemplo..."
   ]
  },
  {
   "cell_type": "code",
   "execution_count": 8,
   "metadata": {},
   "outputs": [
    {
     "data": {
      "text/plain": [
       "[-1, -1, 1, 1, 1, -1, 1, -1, -1, -1, 1, 1, 1, 1, -1, -1]"
      ]
     },
     "execution_count": 8,
     "metadata": {},
     "output_type": "execute_result"
    }
   ],
   "source": [
    "Datos['Y']"
   ]
  }
 ],
 "metadata": {
  "kernelspec": {
   "display_name": "Python 3",
   "language": "python",
   "name": "python3"
  },
  "language_info": {
   "codemirror_mode": {
    "name": "ipython",
    "version": 3
   },
   "file_extension": ".py",
   "mimetype": "text/x-python",
   "name": "python",
   "nbconvert_exporter": "python",
   "pygments_lexer": "ipython3",
   "version": "3.7.3"
  }
 },
 "nbformat": 4,
 "nbformat_minor": 2
}
