{
 "cells": [
  {
   "cell_type": "markdown",
   "metadata": {},
   "source": [
    "# Datos experimentales\n",
    "\n",
    "<br>\n",
    "\n",
    "<div align=\"justify\">\n",
    "    Los datos experimentales definen tanto el número de variables que compondrán el modelo como de la cantidad de modelos matemáticos posibles.\n",
    "</div>\n",
    "\n",
    "<br>\n",
    "\n",
    "Empezamos importando y analizando el modelo..."
   ]
  },
  {
   "cell_type": "code",
   "execution_count": 1,
   "metadata": {},
   "outputs": [
    {
     "name": "stdout",
     "output_type": "stream",
     "text": [
      "MathModel/\n",
      "    .gitignore\n",
      "    Análisis de datos.xlsx\n",
      "    Análisis-combinaciones.txt\n",
      "    data.ipynb\n",
      "    LICENSE\n",
      "    Planteamiento.ipynb\n",
      "    Presentation.ipynb\n",
      "    requirements.txt\n",
      "    validation.ipynb\n",
      "    ~$Análisis de datos.xlsx\n",
      "    .git/\n",
      "        COMMIT_EDITMSG\n",
      "        config\n",
      "        description\n",
      "        FETCH_HEAD\n",
      "        HEAD\n",
      "        index\n",
      "        ORIG_HEAD\n",
      "        hooks/\n",
      "            applypatch-msg.sample\n",
      "            commit-msg.sample\n",
      "            fsmonitor-watchman.sample\n",
      "            post-update.sample\n",
      "            pre-applypatch.sample\n",
      "            pre-commit.sample\n",
      "            pre-push.sample\n",
      "            pre-rebase.sample\n",
      "            pre-receive.sample\n",
      "            prepare-commit-msg.sample\n",
      "            update.sample\n",
      "        info/\n",
      "            exclude\n",
      "        logs/\n",
      "            HEAD\n",
      "            refs/\n",
      "                heads/\n",
      "                    master\n",
      "                remotes/\n",
      "                    origin/\n",
      "                        master\n",
      "        objects/\n",
      "            02/\n",
      "                e53e9f0c036556e5688e9176d4a9332a56bf48\n",
      "            35/\n",
      "                3c6dda957b533450dcc7da040bf98c445c841e\n",
      "            3b/\n",
      "                bef4ee8956726b8af077ca8846def18941bd0d\n",
      "            44/\n",
      "                66e905d25eae4456d3b7972194e7830ad967bd\n",
      "            66/\n",
      "                f2528616ce094c50786c62fc62be7ae17eba02\n",
      "            70/\n",
      "                b653fa970df67a33f3adb6e4f94111a1fed23b\n",
      "            81/\n",
      "                9589b6b72572b9a71ce10c5c2b0f3b8afcdecb\n",
      "            90/\n",
      "                98a1c2e457a7d65e54e989d837bb2ccabdbf3d\n",
      "            b1/\n",
      "                73b7f835823605c8624660b011c79de92b3fa1\n",
      "            bf/\n",
      "                8ce8385fbe91de56e668545b460058dbdcc63d\n",
      "            c6/\n",
      "                ef927aeddcd889734d0aa7973dd71160d3c229\n",
      "            d1/\n",
      "                3dc7097591d40918fc1b556b35d3215eb6a15d\n",
      "            ef/\n",
      "                d4d7f893c28ccee8571b641ed6389f1ab714a8\n",
      "            info/\n",
      "            pack/\n",
      "                pack-5e4ffefdb6bb6266e8e41095534f8b19ef72dfa2.idx\n",
      "                pack-5e4ffefdb6bb6266e8e41095534f8b19ef72dfa2.pack\n",
      "        refs/\n",
      "            heads/\n",
      "                master\n",
      "            remotes/\n",
      "                origin/\n",
      "                    master\n",
      "            tags/\n",
      "    .ipynb_checkpoints/\n",
      "        data-checkpoint.ipynb\n",
      "        Planteamiento-checkpoint.ipynb\n",
      "    App/\n",
      "        DirTree.py\n",
      "        Interprete.py\n",
      "        __init__.py\n",
      "        DataBase/\n",
      "            base.db\n",
      "            db.py\n",
      "            redisdb.py\n",
      "            Datos/\n",
      "                1.txt\n",
      "                2.txt\n",
      "                Ejemplo.txt\n",
      "        Modelos/\n",
      "            Modelos.py\n",
      "            Planteamiento.py\n",
      "            Prueba.py\n",
      "            __pycache__/\n",
      "                Planteamiento.cpython-37.pyc\n",
      "        Pretratamiento/\n",
      "            ANOVA.py\n",
      "            Estabilidad.py\n",
      "            __pycache__/\n",
      "                ANOVA.cpython-37.pyc\n",
      "                Estabilidad.cpython-37.pyc\n",
      "        __pycache__/\n",
      "            DirTree.cpython-37.pyc\n",
      "            Interprete.cpython-37.pyc\n",
      "            __init__.cpython-37.pyc\n",
      "    Images/\n",
      "        cenivam.png\n",
      "        uis.png\n",
      "    Julia/\n",
      "        Prueba.jl\n"
     ]
    },
    {
     "data": {
      "text/plain": [
       "<App.DirTree.list_files at 0x2d809c13eb8>"
      ]
     },
     "execution_count": 1,
     "metadata": {},
     "output_type": "execute_result"
    }
   ],
   "source": [
    "from App.DirTree import list_files\n",
    "import os\n",
    "\n",
    "current_dir = os.getcwd()\n",
    "list_files(current_dir)"
   ]
  },
  {
   "cell_type": "code",
   "execution_count": 10,
   "metadata": {},
   "outputs": [
    {
     "name": "stdout",
     "output_type": "stream",
     "text": [
      "A\tB\tC\tY\n",
      "-1\t-1\t-1\t6,073\n",
      "1\t-1\t-1\t2,447\n",
      "-1\t1\t-1\t1,559\n",
      "1\t1\t-1\t5,745\n",
      "-1\t-1\t1\t7,799\n",
      "1\t-1\t1\t3,667\n",
      "-1\t1\t1\t3,863\n",
      "1\t1\t1\t8,201\n",
      "0\t0\t2\t5,777\n",
      "0\t0\t-2\t0,832\n",
      "0\t2\t0\t3,267\n",
      "0\t-2\t0\t2,705\n",
      "2\t0\t0\t14,853\n",
      "-2\t0\t0\t9,350\n",
      "0\t1,5\t0\t3,129\n",
      "0\t-1,5\t0\t2,973\n",
      "1,5\t0\t0\t8,642\n",
      "-1,5\t0\t0\t6,511\n",
      "0\t0\t1,5\t4,689\n",
      "0\t0\t-1,5\t1,418\n",
      "1\t1\t0\t9,135\n",
      "-1\t-1\t0\t0,016\n",
      "0\t0\t0\t3,164\n",
      "0\t0\t0\t2,341\n",
      "0\t0\t0\t3,150\n",
      "0\t0\t0\t2,789\n",
      "0\t0\t0\t3,234\n",
      "1\t0\t1\t6,313\n",
      "-1\t0\t-1\t4,354\n",
      "0\t1\t1\t3,671\n",
      "0\t-1\t-1\t0,125\n",
      "\n"
     ]
    }
   ],
   "source": [
    "archivo = '1'\n",
    "path_file = 'App/DataBase/Datos/' + archivo + '.txt'\n",
    "with open(path_file, encoding='latin-1') as file:\n",
    "    info = file.read()\n",
    "print(info)"
   ]
  },
  {
   "cell_type": "markdown",
   "metadata": {},
   "source": [
    "<div align=\"justify\">\n",
    "Es evidente que podemos observar los datos experimentales registrados en la base de datos, pero no podemos disponer de manera directa de esa información. Para ello, debemos convertirlo en una variable interpretable por el sistema.\n",
    "</div>"
   ]
  },
  {
   "cell_type": "code",
   "execution_count": 11,
   "metadata": {},
   "outputs": [
    {
     "name": "stdout",
     "output_type": "stream",
     "text": [
      "Stored 'Datos' (dict)\n"
     ]
    }
   ],
   "source": [
    "from App.Interprete import Data\n",
    "Datos = Data(archivo)()\n",
    "%store Datos"
   ]
  },
  {
   "cell_type": "markdown",
   "metadata": {},
   "source": [
    "Por ejemplo..."
   ]
  },
  {
   "cell_type": "code",
   "execution_count": 7,
   "metadata": {},
   "outputs": [
    {
     "data": {
      "text/plain": [
       "[6.073,\n",
       " 2.447,\n",
       " 1.559,\n",
       " 5.745,\n",
       " 7.799,\n",
       " 3.667,\n",
       " 3.863,\n",
       " 8.201,\n",
       " 5.777,\n",
       " 0.832,\n",
       " 3.267,\n",
       " 2.705,\n",
       " 14.853,\n",
       " 9.35,\n",
       " 3.129,\n",
       " 2.973,\n",
       " 8.642,\n",
       " 6.511,\n",
       " 4.689,\n",
       " 1.418,\n",
       " 9.135,\n",
       " 0.016,\n",
       " 3.164,\n",
       " 2.341,\n",
       " 3.15,\n",
       " 2.789,\n",
       " 3.234,\n",
       " 6.313,\n",
       " 4.354,\n",
       " 3.671,\n",
       " 0.125]"
      ]
     },
     "execution_count": 7,
     "metadata": {},
     "output_type": "execute_result"
    }
   ],
   "source": [
    "Datos['Y']"
   ]
  }
 ],
 "metadata": {
  "kernelspec": {
   "display_name": "Python 3",
   "language": "python",
   "name": "python3"
  },
  "language_info": {
   "codemirror_mode": {
    "name": "ipython",
    "version": 3
   },
   "file_extension": ".py",
   "mimetype": "text/x-python",
   "name": "python",
   "nbconvert_exporter": "python",
   "pygments_lexer": "ipython3",
   "version": "3.7.3"
  }
 },
 "nbformat": 4,
 "nbformat_minor": 2
}
