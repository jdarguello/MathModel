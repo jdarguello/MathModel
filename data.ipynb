{
 "cells": [
  {
   "cell_type": "markdown",
   "metadata": {},
   "source": [
    "# Datos experimentales\n",
    "\n",
    "<br>\n",
    "\n",
    "<div align=\"justify\">\n",
    "    Los datos experimentales definen tanto el número de variables que compondrán el modelo como de la cantidad de modelos matemáticos posibles.\n",
    "</div>\n",
    "\n",
    "<br>\n",
    "\n",
    "Empezamos importando y analizando el modelo..."
   ]
  },
  {
   "cell_type": "code",
   "execution_count": 1,
   "metadata": {},
   "outputs": [
    {
     "name": "stdout",
     "output_type": "stream",
     "text": [
      "MathModel/\n",
      "    .git\n",
      "    .gitignore\n",
      "    Análisis de datos.xlsx\n",
      "    Análisis-combinaciones.txt\n",
      "    data.ipynb\n",
      "    LICENSE\n",
      "    Planteamiento.ipynb\n",
      "    Presentation.ipynb\n",
      "    requirements.txt\n",
      "    validation.ipynb\n",
      "    .ipynb_checkpoints/\n",
      "        data-checkpoint.ipynb\n",
      "        Planteamiento-checkpoint.ipynb\n",
      "        Presentation-checkpoint.ipynb\n",
      "        validation-checkpoint.ipynb\n",
      "    App/\n",
      "        DirTree.py\n",
      "        Interprete.py\n",
      "        __init__.py\n",
      "        Base de datos/\n",
      "            db.py\n",
      "            Datos/\n",
      "                1.txt\n",
      "                2.txt\n",
      "                Ejemplo.txt\n",
      "        Modelos/\n",
      "            Modelos.py\n",
      "            Planteamiento.py\n",
      "            Prueba.py\n",
      "            __pycache__/\n",
      "                Modelos.cpython-37.pyc\n",
      "                Planteamiento.cpython-37.pyc\n",
      "        Pretratamiento/\n",
      "            ANOVA.py\n",
      "            Estabilidad.py\n",
      "            __pycache__/\n",
      "                ANOVA.cpython-37.pyc\n",
      "                Estabilidad.cpython-37.pyc\n",
      "        __pycache__/\n",
      "            DirTree.cpython-37.pyc\n",
      "            Interprete.cpython-37.pyc\n",
      "            __init__.cpython-37.pyc\n",
      "    Images/\n",
      "        cenivam.png\n",
      "        uis.png\n"
     ]
    },
    {
     "data": {
      "text/plain": [
       "<App.DirTree.list_files at 0x1e0f0291710>"
      ]
     },
     "execution_count": 1,
     "metadata": {},
     "output_type": "execute_result"
    }
   ],
   "source": [
    "from App.DirTree import list_files\n",
    "import os\n",
    "\n",
    "current_dir = os.getcwd()\n",
    "list_files(current_dir)"
   ]
  },
  {
   "cell_type": "code",
   "execution_count": 2,
   "metadata": {},
   "outputs": [
    {
     "name": "stdout",
     "output_type": "stream",
     "text": [
      "A\tB\tC\tY\n",
      "-1\t-1\t-1\t6,073\n",
      "1\t-1\t-1\t2,447\n",
      "-1\t1\t-1\t1,559\n",
      "1\t1\t-1\t5,745\n",
      "-1\t-1\t1\t7,799\n",
      "1\t-1\t1\t3,667\n",
      "-1\t1\t1\t3,863\n",
      "1\t1\t1\t8,201\n",
      "0\t0\t2\t5,777\n",
      "0\t0\t-2\t0,832\n",
      "0\t2\t0\t3,267\n",
      "0\t-2\t0\t2,705\n",
      "2\t0\t0\t14,853\n",
      "-2\t0\t0\t9,350\n",
      "0\t1,5\t0\t3,129\n",
      "0\t-1,5\t0\t2,973\n",
      "1,5\t0\t0\t8,642\n",
      "-1,5\t0\t0\t6,511\n",
      "0\t0\t1,5\t4,689\n",
      "0\t0\t-1,5\t1,418\n",
      "1\t1\t0\t9,135\n",
      "-1\t-1\t0\t0,016\n",
      "0\t0\t0\t3,164\n",
      "0\t0\t0\t2,341\n",
      "0\t0\t0\t3,150\n",
      "0\t0\t0\t2,789\n",
      "0\t0\t0\t3,234\n",
      "1\t0\t1\t6,313\n",
      "-1\t0\t-1\t4,354\n",
      "0\t1\t1\t3,671\n",
      "0\t-1\t-1\t0,125\n",
      "\n"
     ]
    }
   ],
   "source": [
    "archivo = '1'\n",
    "path_file = 'App/Base de datos/Datos/' + archivo + '.txt'\n",
    "with open(path_file, encoding='latin-1') as file:\n",
    "    info = file.read()\n",
    "print(info)"
   ]
  },
  {
   "cell_type": "markdown",
   "metadata": {},
   "source": [
    "<div align=\"justify\">\n",
    "Es evidente que podemos observar los datos experimentales registrados en la base de datos, pero no podemos disponer de manera directa de esa información. Para ello, debemos convertirlo en una variable interpretable por el sistema.\n",
    "</div>"
   ]
  },
  {
   "cell_type": "code",
   "execution_count": 3,
   "metadata": {},
   "outputs": [
    {
     "name": "stdout",
     "output_type": "stream",
     "text": [
      "Stored 'Datos' (dict)\n"
     ]
    }
   ],
   "source": [
    "from App.Interprete import Data\n",
    "Datos = Data(archivo)()\n",
    "%store Datos"
   ]
  },
  {
   "cell_type": "markdown",
   "metadata": {},
   "source": [
    "Por ejemplo..."
   ]
  },
  {
   "cell_type": "code",
   "execution_count": null,
   "metadata": {},
   "outputs": [],
   "source": [
    "Datos"
   ]
  }
 ],
 "metadata": {
  "kernelspec": {
   "display_name": "Python 3",
   "language": "python",
   "name": "python3"
  },
  "language_info": {
   "codemirror_mode": {
    "name": "ipython",
    "version": 3
   },
   "file_extension": ".py",
   "mimetype": "text/x-python",
   "name": "python",
   "nbconvert_exporter": "python",
   "pygments_lexer": "ipython3",
   "version": "3.7.3"
  }
 },
 "nbformat": 4,
 "nbformat_minor": 2
}
